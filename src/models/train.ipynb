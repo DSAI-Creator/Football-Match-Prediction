{
 "cells": [
  {
   "cell_type": "code",
   "execution_count": 24,
   "metadata": {},
   "source": [
    "import pandas as pd\n",
    "import numpy as np\n",
    "import matplotlib.pyplot as plt\n",
    "\n",
    "# Load the data\n",
    "data = pd.read_csv('D:\\dev\\project\\Football-Match-Prediction\\data\\processed\\df_merged.csv')"
   ],
   "outputs": []
  },
  {
   "cell_type": "code",
   "execution_count": 25,
   "metadata": {},
   "source": [
    "data.describe()"
   ],
   "outputs": []
  },
  {
   "cell_type": "code",
   "execution_count": 32,
   "metadata": {},
   "source": [
    "data.dropna(inplace=True)"
   ],
   "outputs": []
  },
  {
   "cell_type": "code",
   "execution_count": 33,
   "metadata": {},
   "source": [
    "# Ensure 'Time' is in datetime format\n",
    "data['Time'] = pd.to_datetime(data['Time'])\n",
    "\n",
    "# Split the data into training and validation sets\n",
    "train = data[data['Time'] <= '2023-08']\n",
    "valid = data[data['Time'] > '2023-08']"
   ],
   "outputs": []
  },
  {
   "cell_type": "code",
   "execution_count": 34,
   "metadata": {},
   "source": [
    "from sklearn.preprocessing import StandardScaler\n",
    "\n",
    "\n",
    "y_train = train['HomeTeam_Result'].map({'W' : 2, 'D' : 1, 'L' : 0})\n",
    "y_valid = valid['HomeTeam_Result'].map({'W' : 2, 'D' : 1, 'L' : 0})\n",
    "X_train = train.drop(columns=['Time', 'HomeTeam_Result', 'HomeTeam_GF', 'AwayTeam_GF'])\n",
    "X_valid = valid.drop(columns=['Time', 'HomeTeam_Result', 'HomeTeam_GF', 'AwayTeam_GF'])\n",
    "\n",
    "# scaler = StandardScaler()\n",
    "# X = scaler.fit_transform(X)"
   ],
   "outputs": []
  },
  {
   "cell_type": "code",
   "execution_count": 35,
   "metadata": {},
   "source": [
    "X_valid.head()"
   ],
   "outputs": []
  },
  {
   "cell_type": "code",
   "execution_count": 41,
   "metadata": {},
   "source": [
    "from sklearn.linear_model import LogisticRegression\n",
    "from sklearn.ensemble import RandomForestClassifier\n",
    "from sklearn.svm import SVC\n",
    "from sklearn.preprocessing import MinMaxScaler\n",
    "from sklearn.model_selection import cross_val_score\n",
    "\n",
    "models = {\n",
    "    'Logistic Regression': LogisticRegression(solver='liblinear'),\n",
    "    'Random Forest': RandomForestClassifier(),\n",
    "    'SVC': SVC()\n",
    "}\n",
    "\n",
    "for name, model in models.items():\n",
    "    if name == 'SVC':\n",
    "        scaler = MinMaxScaler()\n",
    "        X_train_scaled = scaler.fit_transform(X_train)\n",
    "        X_valid_scaled = scaler.transform(X_valid)\n",
    "        model.fit(X_train_scaled, y_train)\n",
    "        print(name)\n",
    "        print('Training score:', model.score(X_train_scaled, y_train))\n",
    "        print('Validation score:', model.score(X_valid_scaled, y_valid))\n",
    "        print()\n",
    "        continue\n",
    "    model.fit(X_train, y_train)\n",
    "    print(name)\n",
    "    print('Training score:', model.score(X_train, y_train))\n",
    "    print('Validation score:', model.score(X_valid, y_valid))\n",
    "    print()"
   ],
   "outputs": []
  },
  {
   "cell_type": "code",
   "execution_count": 37,
   "metadata": {},
   "source": [
    "# One-hot encode the team names\n",
    "X_train = pd.get_dummies(X_train, columns=['HomeTeam', 'AwayTeam'])\n",
    "X_valid = pd.get_dummies(X_valid, columns=['HomeTeam', 'AwayTeam'])\n",
    "# Align the columns of X_valid to match X_train\n",
    "X_valid = X_valid.reindex(columns=X_train.columns, fill_value=0)"
   ],
   "outputs": []
  },
  {
   "cell_type": "code",
   "execution_count": 38,
   "metadata": {},
   "source": [
    "model = RandomForestClassifier()\n",
    "model.fit(X_train, y_train)\n",
    "y_pred = model.predict(X_valid)"
   ],
   "outputs": []
  },
  {
   "cell_type": "code",
   "execution_count": 39,
   "metadata": {},
   "source": [
    "import seaborn as sns\n",
    "from sklearn.metrics import confusion_matrix, classification_report\n",
    "\n",
    "sns.heatmap(confusion_matrix(y_valid, y_pred), annot = True, fmt='d')\n",
    "print(classification_report(y_valid, y_pred))"
   ],
   "outputs": []
  }
 ],
 "metadata": {
  "kernelspec": {
   "display_name": "base",
   "language": "python",
   "name": "python3"
  },
  "language_info": {
   "codemirror_mode": {
    "name": "ipython",
    "version": 3
   },
   "file_extension": ".py",
   "mimetype": "text/x-python",
   "name": "python",
   "nbconvert_exporter": "python",
   "pygments_lexer": "ipython3",
   "version": "3.11.5"
  }
 },
 "nbformat": 4,
 "nbformat_minor": 2
}
