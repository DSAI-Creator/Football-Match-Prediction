{
 "cells": [
  {
   "cell_type": "code",
   "execution_count": 1,
   "metadata": {},
   "source": [
    "import pandas as pd\n",
    "import numpy as np\n",
    "data = pd.read_csv('D:\\dev\\project\\Football-Match-Prediction\\data\\processed\\la_liga_data.csv')\n",
    "data['Time'] = pd.to_datetime(data['Time'])\n",
    "data.info(verbose=True)"
   ],
   "outputs": []
  },
  {
   "cell_type": "code",
   "execution_count": 2,
   "metadata": {},
   "source": [
    "data.head()"
   ],
   "outputs": []
  },
  {
   "cell_type": "code",
   "execution_count": 3,
   "metadata": {},
   "source": [
    "data.drop(columns=['Comp', 'Day', 'Captain', 'Formation', 'Opp Formation', 'Referee'], inplace=True)"
   ],
   "outputs": []
  },
  {
   "cell_type": "code",
   "execution_count": 4,
   "metadata": {},
   "source": [
    "for col in data.select_dtypes(include=[np.number]).columns:\n",
    "    data[col] = data[col].fillna(data.groupby('Team')[col].transform('mean'))\n",
    "    # df2[cols] = df2[cols].fillna(df2.groupby('Team')[cols].mean()) "
   ],
   "outputs": []
  },
  {
   "cell_type": "markdown",
   "metadata": {},
   "source": [
    "#### Get current form features"
   ]
  },
  {
   "cell_type": "code",
   "execution_count": 5,
   "metadata": {},
   "source": [
    "current_form_features = pd.read_csv('D:/dev/project/Football-Match-Prediction/src/eda/eda_data/selected/all_feature_names.csv')#.drop(axis = 0, labels=['Performance__GA', 'Standard__Gls'], inplace=False)   \n",
    "window_size = 5\n",
    "current_form_features = set(current_form_features['Feature_Name'].values)\n",
    "current_form_features.remove('Performance__GA')\n",
    "current_form_features.remove('Standard__Gls')\n",
    "current_form_features = list(current_form_features)\n",
    "current_form_features"
   ],
   "outputs": []
  },
  {
   "cell_type": "code",
   "execution_count": 6,
   "metadata": {
    "vscode": {
     "languageId": "ruby"
    }
   },
   "source": [
    "# Sort the data by Team, Season, Round, and Time\n",
    "data = data.sort_values(['Team', 'Season', 'Round', 'Time'])\n",
    "train_data = data[['Time', 'Season', 'Venue', 'Round', 'Team', 'Opponent', 'GF', 'GA', 'Result']].copy()\n",
    "# Calculate rolling averages for the last 5 matches\n",
    "for feature in current_form_features:\n",
    "    if feature != 'Performance__CS':\n",
    "        train_data[f\"{feature}_avg_last5\"] = data.groupby('Team')[feature].transform(\n",
    "            lambda x: x.shift().rolling(window=window_size, min_periods=1).mean()\n",
    "        )\n",
    "    else:\n",
    "        train_data[f\"{feature}_avg_last5\"] = data.groupby('Team')[feature].transform(\n",
    "            lambda x: x.shift().rolling(window=window_size, min_periods=1).sum()\n",
    "        )\n",
    "# Calculate the current points\n",
    "\n",
    "train_data['CurrentPoints'] = data.groupby(['Team', 'Season'])['Points'].transform(\n",
    "    lambda x: x.shift().cumsum()\n",
    ").fillna(0)"
   ],
   "outputs": []
  },
  {
   "cell_type": "code",
   "execution_count": 7,
   "metadata": {
    "vscode": {
     "languageId": "ruby"
    }
   },
   "source": [
    "train_data.sort_values(['Team', 'Season', 'Round', 'Time'], inplace=True)\n",
    "train_data[['Team', 'Season', 'Round', 'Time', 'CurrentPoints']].head(45)"
   ],
   "outputs": []
  },
  {
   "cell_type": "code",
   "execution_count": 8,
   "metadata": {
    "vscode": {
     "languageId": "ruby"
    }
   },
   "source": [
    "prematch_cols = ['Time', 'Round', 'Venue', 'Season']\n",
    "# train_data = data[prematch_cols + ['Team', 'Opponent', 'Result', 'GF', 'GA']].sort_values(by=['Season', 'Round', 'Time'])\n",
    "# Rename columns to include 'HomeTeam_' prefix where Venue == 1\n",
    "df_team = train_data[train_data['Venue'] == 1].copy()\n",
    "df_team['HomeTeam'] = df_team['Team']\n",
    "df_team.drop(columns=['Team'], inplace=True)\n",
    "df_team['AwayTeam'] = df_team['Opponent']\n",
    "df_team.drop(columns=['Opponent'], inplace=True)\n",
    "df_team = df_team.rename(columns=lambda x: f\"HomeTeam_{x}\" if x not in (prematch_cols + ['HomeTeam', 'AwayTeam']) else x)\n",
    "df_team.drop(columns=['Venue'], inplace=True)\n",
    "df_opponent = train_data[train_data['Venue'] == 0].copy()\n",
    "df_opponent['AwayTeam'] = df_opponent['Team']\n",
    "df_opponent = df_opponent.drop(columns=['Team'])\n",
    "df_opponent['HomeTeam'] = df_opponent['Opponent']\n",
    "df_opponent = df_opponent.drop(columns=['Opponent'])\n",
    "df_opponent = df_opponent.rename(columns=lambda x: f\"AwayTeam_{x}\" if x not in (prematch_cols + ['HomeTeam', 'AwayTeam']) else x)\n",
    "df_opponent.drop(columns=['Venue'], inplace=True)   \n",
    "# Merge the two dataframes\n",
    "prematch_cols.remove('Venue')\n",
    "train_data_merged = pd.merge(df_team, df_opponent, on=(prematch_cols + ['HomeTeam', 'AwayTeam']))\n",
    "train_data_merged.drop(columns=['HomeTeam_GA', 'AwayTeam_GA', 'AwayTeam_Result'], inplace=True)"
   ],
   "outputs": []
  },
  {
   "cell_type": "code",
   "execution_count": 9,
   "metadata": {
    "vscode": {
     "languageId": "ruby"
    }
   },
   "source": [
    "train_data_merged = train_data_merged.sort_values(['Season', 'Round', 'Time']).reset_index(drop=True)"
   ],
   "outputs": []
  },
  {
   "cell_type": "code",
   "execution_count": 10,
   "metadata": {
    "vscode": {
     "languageId": "ruby"
    }
   },
   "source": [
    "train_data_merged.info(verbose=True)"
   ],
   "outputs": []
  },
  {
   "cell_type": "code",
   "execution_count": 11,
   "metadata": {},
   "source": [
    "train_data.sort_values('Time', inplace=True)\n",
    "\n",
    "# Initialize a list to store head-to-head stats\n",
    "h2h_stats = []\n",
    "\n",
    "# Iterate over each match in df_merged\n",
    "for index, row in train_data_merged.iterrows():\n",
    "    home_team = row['HomeTeam']\n",
    "    away_team = row['AwayTeam']\n",
    "    match_time = row['Time']\n",
    "    \n",
    "    # Filter past matches between the two teams\n",
    "    past_matches = train_data[\n",
    "        (((train_data['Team'] == home_team) & (train_data['Opponent'] == away_team)) |\n",
    "         ((train_data['Team'] == away_team) & (train_data['Opponent'] == home_team))) &\n",
    "        (train_data['Time'] < match_time)\n",
    "    ]\n",
    "    \n",
    "    total_matches = len(past_matches)\n",
    "    if total_matches == 0:\n",
    "        home_wins = away_wins = draws = home_goals = away_goals = 0\n",
    "    else:\n",
    "        # Results from the perspective of the home team\n",
    "        home_wins = ((past_matches['Team'] == home_team) & (past_matches['Result'] == 'W')).sum()\n",
    "        away_wins = ((past_matches['Team'] == home_team) & (past_matches['Result'] == 'L')).sum()\n",
    "        draws = (past_matches['Result'] == 'D').sum()\n",
    "        \n",
    "        # Goals scored by each team\n",
    "        home_goals = past_matches.loc[past_matches['Team'] == home_team, 'GF'].sum() + \\\n",
    "                     past_matches.loc[past_matches['Opponent'] == home_team, 'GA'].sum()\n",
    "        away_goals = past_matches.loc[past_matches['Team'] == away_team, 'GF'].sum() + \\\n",
    "                     past_matches.loc[past_matches['Opponent'] == away_team, 'GA'].sum()\n",
    "    \n",
    "    h2h_stats.append({\n",
    "        'H2H_Total_Matches': total_matches,\n",
    "        'H2H_Home_Wins': home_wins,\n",
    "        'H2H_Away_Wins': away_wins,\n",
    "        'H2H_Draws': draws,\n",
    "        'H2H_Home_Goals': home_goals,\n",
    "        'H2H_Away_Goals': away_goals,\n",
    "    })\n",
    "\n",
    "# Convert the list to a DataFrame\n",
    "h2h_stats_df = pd.DataFrame(h2h_stats)\n",
    "\n",
    "# Merge the head-to-head stats with the original dataframe\n",
    "df_merged = pd.concat([train_data_merged.reset_index(drop=True), h2h_stats_df], axis=1)"
   ],
   "outputs": []
  },
  {
   "cell_type": "code",
   "execution_count": 15,
   "metadata": {},
   "source": [
    "df_merged.sort_values('Time', inplace=True)\n",
    "df_merged.head()"
   ],
   "outputs": []
  },
  {
   "cell_type": "code",
   "execution_count": 25,
   "metadata": {},
   "source": [
    "df_merged.sort_values('Time', inplace=True)\n",
    "df_merged.to_csv('D:/dev/project/Football-Match-Prediction/data/processed/df_merged.csv', index=False)"
   ],
   "outputs": []
  },
  {
   "cell_type": "code",
   "execution_count": 12,
   "metadata": {},
   "source": [
    "# import pandas as pd\n",
    "\n",
    "# # Ensure 'Time' is datetime and sort the DataFrame chronologically\n",
    "# train_data_merged['Time'] = pd.to_datetime(train_data_merged['Time'])\n",
    "# train_data_merged.sort_values('Time', inplace=True)\n",
    "\n",
    "# # Create a unique identifier for each team pair\n",
    "# train_data_merged['TeamPair'] = train_data_merged.apply(lambda x: '_'.join(sorted([x['HomeTeam'], x['AwayTeam']])), axis=1)\n",
    "\n",
    "# # Sort by 'TeamPair' and 'Time' to prepare for cumulative calculations\n",
    "# train_data_merged.sort_values(['TeamPair', 'Time'], inplace=True)\n",
    "# train_data_merged.head()\n"
   ],
   "outputs": []
  },
  {
   "cell_type": "code",
   "execution_count": 13,
   "metadata": {},
   "source": [
    "# # Initialize the head-to-head features\n",
    "# head_to_head_features = [\n",
    "#     'HeadToHead_Matches',\n",
    "#     'HeadToHead_HomeWins',\n",
    "#     'HeadToHead_AwayWins',\n",
    "#     'HeadToHead_Draws',\n",
    "#     'HeadToHead_HomeGoals',\n",
    "#     'HeadToHead_AwayGoals'\n",
    "# ]\n",
    "\n",
    "# for feature in head_to_head_features:\n",
    "#     train_data_merged[feature] = 0\n",
    "\n",
    "# # Calculate cumulative head-to-head statistics excluding current match\n",
    "# train_data_merged['HeadToHead_Matches'] = train_data_merged.groupby('TeamPair').cumcount()\n",
    "\n",
    "# # Home Wins\n",
    "# train_data_merged['HeadToHead_HomeWins'] = train_data_merged.groupby('TeamPair')['HomeTeam_Result'].transform(lambda x: (x == 'W').cumsum()).shift(1).fillna(0)\n",
    "\n",
    "# # Away Wins\n",
    "# train_data_merged['HeadToHead_AwayWins'] = train_data_merged.groupby('TeamPair')['HomeTeam_Result'].transform(lambda x: (x == 'L').cumsum()).shift(1).fillna(0)\n",
    "\n",
    "# # Draws\n",
    "# train_data_merged['HeadToHead_Draws'] = train_data_merged.groupby('TeamPair')['HomeTeam_Result'].transform(lambda x: (x == 'D').cumsum()).shift(1).fillna(0)\n",
    "\n",
    "# # Cumulative Goals\n",
    "# train_data_merged['HeadToHead_HomeGoals'] = train_data_merged.groupby('TeamPair')['HomeTeam_GF'].transform('cumsum').shift(1).fillna(0)\n",
    "# train_data_merged['HeadToHead_AwayGoals'] = train_data_merged.groupby('TeamPair')['AwayTeam_GF'].transform('cumsum').shift(1).fillna(0)"
   ],
   "outputs": []
  },
  {
   "cell_type": "code",
   "execution_count": 14,
   "metadata": {},
   "source": [
    "pd.set_option('display.max_columns', None)\n",
    "\n",
    "train_data_merged.sort_values('Time', inplace=True)\n",
    "train_data_merged.head()"
   ],
   "outputs": []
  }
 ],
 "metadata": {
  "kernelspec": {
   "display_name": "base",
   "language": "python",
   "name": "python3"
  },
  "language_info": {
   "codemirror_mode": {
    "name": "ipython",
    "version": 3
   },
   "file_extension": ".py",
   "mimetype": "text/x-python",
   "name": "python",
   "nbconvert_exporter": "python",
   "pygments_lexer": "ipython3",
   "version": "3.11.5"
  }
 },
 "nbformat": 4,
 "nbformat_minor": 2
}
