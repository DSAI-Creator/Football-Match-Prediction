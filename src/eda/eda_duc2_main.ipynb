{
 "cells": [
  {
   "cell_type": "markdown",
   "metadata": {},
   "source": [
    "# Import libraries"
   ]
  },
  {
   "cell_type": "code",
   "execution_count": 1,
   "metadata": {},
   "outputs": [],
   "source": [
    "import numpy as np \n",
    "import pandas as pd\n",
    "import matplotlib.pyplot as plt"
   ]
  },
  {
   "cell_type": "markdown",
   "metadata": {},
   "source": [
    "# Read csv"
   ]
  },
  {
   "cell_type": "markdown",
   "metadata": {},
   "source": [
    "## Match result"
   ]
  },
  {
   "cell_type": "code",
   "execution_count": 2,
   "metadata": {},
   "outputs": [
    {
     "name": "stdout",
     "output_type": "stream",
     "text": [
      "(5520, 6)\n"
     ]
    },
    {
     "data": {
      "text/html": [
       "<div>\n",
       "<style scoped>\n",
       "    .dataframe tbody tr th:only-of-type {\n",
       "        vertical-align: middle;\n",
       "    }\n",
       "\n",
       "    .dataframe tbody tr th {\n",
       "        vertical-align: top;\n",
       "    }\n",
       "\n",
       "    .dataframe thead th {\n",
       "        text-align: right;\n",
       "    }\n",
       "</style>\n",
       "<table border=\"1\" class=\"dataframe\">\n",
       "  <thead>\n",
       "    <tr style=\"text-align: right;\">\n",
       "      <th></th>\n",
       "      <th>Unnamed: 0</th>\n",
       "      <th>Time</th>\n",
       "      <th>Team</th>\n",
       "      <th>Opponent</th>\n",
       "      <th>GF</th>\n",
       "      <th>GA</th>\n",
       "    </tr>\n",
       "  </thead>\n",
       "  <tbody>\n",
       "    <tr>\n",
       "      <th>0</th>\n",
       "      <td>0</td>\n",
       "      <td>2017-08-18 20:15:00</td>\n",
       "      <td>Alaves</td>\n",
       "      <td>Leganes</td>\n",
       "      <td>0.0</td>\n",
       "      <td>1.0</td>\n",
       "    </tr>\n",
       "  </tbody>\n",
       "</table>\n",
       "</div>"
      ],
      "text/plain": [
       "   Unnamed: 0                 Time    Team Opponent   GF   GA\n",
       "0           0  2017-08-18 20:15:00  Alaves  Leganes  0.0  1.0"
      ]
     },
     "execution_count": 2,
     "metadata": {},
     "output_type": "execute_result"
    }
   ],
   "source": [
    "match_result = pd.read_csv('eda_data/match_result.csv')\n",
    "print(match_result.shape)\n",
    "match_result.head(1)"
   ]
  },
  {
   "cell_type": "markdown",
   "metadata": {},
   "source": [
    "## Match result statistics"
   ]
  },
  {
   "cell_type": "code",
   "execution_count": 3,
   "metadata": {},
   "outputs": [
    {
     "name": "stdout",
     "output_type": "stream",
     "text": [
      "(29, 9)\n"
     ]
    },
    {
     "data": {
      "text/html": [
       "<div>\n",
       "<style scoped>\n",
       "    .dataframe tbody tr th:only-of-type {\n",
       "        vertical-align: middle;\n",
       "    }\n",
       "\n",
       "    .dataframe tbody tr th {\n",
       "        vertical-align: top;\n",
       "    }\n",
       "\n",
       "    .dataframe thead th {\n",
       "        text-align: right;\n",
       "    }\n",
       "</style>\n",
       "<table border=\"1\" class=\"dataframe\">\n",
       "  <thead>\n",
       "    <tr style=\"text-align: right;\">\n",
       "      <th></th>\n",
       "      <th>Unnamed: 0</th>\n",
       "      <th>Team</th>\n",
       "      <th>Total Matches</th>\n",
       "      <th>Wins</th>\n",
       "      <th>Win %</th>\n",
       "      <th>Draws</th>\n",
       "      <th>Draw %</th>\n",
       "      <th>Losses</th>\n",
       "      <th>Loss %</th>\n",
       "    </tr>\n",
       "  </thead>\n",
       "  <tbody>\n",
       "    <tr>\n",
       "      <th>0</th>\n",
       "      <td>0</td>\n",
       "      <td>Alaves</td>\n",
       "      <td>238</td>\n",
       "      <td>70</td>\n",
       "      <td>29.411765</td>\n",
       "      <td>51</td>\n",
       "      <td>21.428571</td>\n",
       "      <td>117</td>\n",
       "      <td>49.159664</td>\n",
       "    </tr>\n",
       "  </tbody>\n",
       "</table>\n",
       "</div>"
      ],
      "text/plain": [
       "   Unnamed: 0    Team  Total Matches  Wins      Win %  Draws     Draw %  \\\n",
       "0           0  Alaves            238    70  29.411765     51  21.428571   \n",
       "\n",
       "   Losses     Loss %  \n",
       "0     117  49.159664  "
      ]
     },
     "execution_count": 3,
     "metadata": {},
     "output_type": "execute_result"
    }
   ],
   "source": [
    "result_stats = pd.read_csv('eda_data/result_percentage.csv')\n",
    "print(result_stats.shape)\n",
    "result_stats.head(1)"
   ]
  },
  {
   "cell_type": "markdown",
   "metadata": {},
   "source": [
    "## Shooting stats"
   ]
  },
  {
   "cell_type": "code",
   "execution_count": 4,
   "metadata": {},
   "outputs": [
    {
     "name": "stdout",
     "output_type": "stream",
     "text": [
      "(5520, 11)\n"
     ]
    },
    {
     "data": {
      "text/html": [
       "<div>\n",
       "<style scoped>\n",
       "    .dataframe tbody tr th:only-of-type {\n",
       "        vertical-align: middle;\n",
       "    }\n",
       "\n",
       "    .dataframe tbody tr th {\n",
       "        vertical-align: top;\n",
       "    }\n",
       "\n",
       "    .dataframe thead th {\n",
       "        text-align: right;\n",
       "    }\n",
       "</style>\n",
       "<table border=\"1\" class=\"dataframe\">\n",
       "  <thead>\n",
       "    <tr style=\"text-align: right;\">\n",
       "      <th></th>\n",
       "      <th>Unnamed: 0</th>\n",
       "      <th>Standard__Gls</th>\n",
       "      <th>Standard__Sh</th>\n",
       "      <th>Standard__SoT</th>\n",
       "      <th>Standard__SoT%</th>\n",
       "      <th>Standard__G/Sh</th>\n",
       "      <th>Standard__G/SoT</th>\n",
       "      <th>Standard__Dist</th>\n",
       "      <th>Standard__FK</th>\n",
       "      <th>Standard__PK</th>\n",
       "      <th>Standard__PKatt</th>\n",
       "    </tr>\n",
       "  </thead>\n",
       "  <tbody>\n",
       "    <tr>\n",
       "      <th>0</th>\n",
       "      <td>0</td>\n",
       "      <td>0</td>\n",
       "      <td>8.0</td>\n",
       "      <td>4.0</td>\n",
       "      <td>50.0</td>\n",
       "      <td>0.0</td>\n",
       "      <td>0.0</td>\n",
       "      <td>22.8</td>\n",
       "      <td>0.0</td>\n",
       "      <td>0</td>\n",
       "      <td>1</td>\n",
       "    </tr>\n",
       "  </tbody>\n",
       "</table>\n",
       "</div>"
      ],
      "text/plain": [
       "   Unnamed: 0  Standard__Gls  Standard__Sh  Standard__SoT  Standard__SoT%  \\\n",
       "0           0              0           8.0            4.0            50.0   \n",
       "\n",
       "   Standard__G/Sh  Standard__G/SoT  Standard__Dist  Standard__FK  \\\n",
       "0             0.0              0.0            22.8           0.0   \n",
       "\n",
       "   Standard__PK  Standard__PKatt  \n",
       "0             0                1  "
      ]
     },
     "execution_count": 4,
     "metadata": {},
     "output_type": "execute_result"
    }
   ],
   "source": [
    "shooting = pd.read_csv('eda_data/df_shooting.csv')\n",
    "print(shooting.shape)\n",
    "shooting.head(1)"
   ]
  },
  {
   "cell_type": "code",
   "execution_count": 5,
   "metadata": {},
   "outputs": [
    {
     "name": "stdout",
     "output_type": "stream",
     "text": [
      "(10, 3)\n"
     ]
    },
    {
     "data": {
      "text/html": [
       "<div>\n",
       "<style scoped>\n",
       "    .dataframe tbody tr th:only-of-type {\n",
       "        vertical-align: middle;\n",
       "    }\n",
       "\n",
       "    .dataframe tbody tr th {\n",
       "        vertical-align: top;\n",
       "    }\n",
       "\n",
       "    .dataframe thead th {\n",
       "        text-align: right;\n",
       "    }\n",
       "</style>\n",
       "<table border=\"1\" class=\"dataframe\">\n",
       "  <thead>\n",
       "    <tr style=\"text-align: right;\">\n",
       "      <th></th>\n",
       "      <th>Unnamed: 0</th>\n",
       "      <th>Column</th>\n",
       "      <th>Explanation</th>\n",
       "    </tr>\n",
       "  </thead>\n",
       "  <tbody>\n",
       "    <tr>\n",
       "      <th>0</th>\n",
       "      <td>0</td>\n",
       "      <td>Standard__Gls</td>\n",
       "      <td>Number of goals scored (Goals Scored)</td>\n",
       "    </tr>\n",
       "    <tr>\n",
       "      <th>1</th>\n",
       "      <td>1</td>\n",
       "      <td>Standard__Sh</td>\n",
       "      <td>Number of shots taken (Shots)</td>\n",
       "    </tr>\n",
       "    <tr>\n",
       "      <th>2</th>\n",
       "      <td>2</td>\n",
       "      <td>Standard__SoT</td>\n",
       "      <td>Number of shots on target (Shots on Target)</td>\n",
       "    </tr>\n",
       "    <tr>\n",
       "      <th>3</th>\n",
       "      <td>3</td>\n",
       "      <td>Standard__SoT%</td>\n",
       "      <td>Percentage of shots on target (Shots on Target...</td>\n",
       "    </tr>\n",
       "    <tr>\n",
       "      <th>4</th>\n",
       "      <td>4</td>\n",
       "      <td>Standard__G/Sh</td>\n",
       "      <td>Goals per shot (Goals per Shot)</td>\n",
       "    </tr>\n",
       "    <tr>\n",
       "      <th>5</th>\n",
       "      <td>5</td>\n",
       "      <td>Standard__G/SoT</td>\n",
       "      <td>Goals per shot on target (Goals per Shot on Ta...</td>\n",
       "    </tr>\n",
       "    <tr>\n",
       "      <th>6</th>\n",
       "      <td>6</td>\n",
       "      <td>Standard__Dist</td>\n",
       "      <td>Average shot distance (Shot Distance)</td>\n",
       "    </tr>\n",
       "    <tr>\n",
       "      <th>7</th>\n",
       "      <td>7</td>\n",
       "      <td>Standard__FK</td>\n",
       "      <td>Number of free kicks (Free Kicks)</td>\n",
       "    </tr>\n",
       "    <tr>\n",
       "      <th>8</th>\n",
       "      <td>8</td>\n",
       "      <td>Standard__PK</td>\n",
       "      <td>Number of penalty kicks (Penalty Kicks)</td>\n",
       "    </tr>\n",
       "    <tr>\n",
       "      <th>9</th>\n",
       "      <td>9</td>\n",
       "      <td>Standard__PKatt</td>\n",
       "      <td>Number of penalty kick attempts (Penalty Kicks...</td>\n",
       "    </tr>\n",
       "  </tbody>\n",
       "</table>\n",
       "</div>"
      ],
      "text/plain": [
       "   Unnamed: 0           Column  \\\n",
       "0           0    Standard__Gls   \n",
       "1           1     Standard__Sh   \n",
       "2           2    Standard__SoT   \n",
       "3           3   Standard__SoT%   \n",
       "4           4   Standard__G/Sh   \n",
       "5           5  Standard__G/SoT   \n",
       "6           6   Standard__Dist   \n",
       "7           7     Standard__FK   \n",
       "8           8     Standard__PK   \n",
       "9           9  Standard__PKatt   \n",
       "\n",
       "                                         Explanation  \n",
       "0              Number of goals scored (Goals Scored)  \n",
       "1                      Number of shots taken (Shots)  \n",
       "2        Number of shots on target (Shots on Target)  \n",
       "3  Percentage of shots on target (Shots on Target...  \n",
       "4                    Goals per shot (Goals per Shot)  \n",
       "5  Goals per shot on target (Goals per Shot on Ta...  \n",
       "6              Average shot distance (Shot Distance)  \n",
       "7                  Number of free kicks (Free Kicks)  \n",
       "8            Number of penalty kicks (Penalty Kicks)  \n",
       "9  Number of penalty kick attempts (Penalty Kicks...  "
      ]
     },
     "execution_count": 5,
     "metadata": {},
     "output_type": "execute_result"
    }
   ],
   "source": [
    "shooting_explain = pd.read_csv('eda_data/df_shooting_explained.csv')\n",
    "print(shooting_explain.shape)\n",
    "shooting_explain"
   ]
  },
  {
   "cell_type": "markdown",
   "metadata": {},
   "source": [
    "## Defensive Actions"
   ]
  },
  {
   "cell_type": "code",
   "execution_count": 6,
   "metadata": {},
   "outputs": [
    {
     "name": "stdout",
     "output_type": "stream",
     "text": [
      "(5520, 17)\n"
     ]
    },
    {
     "data": {
      "text/html": [
       "<div>\n",
       "<style scoped>\n",
       "    .dataframe tbody tr th:only-of-type {\n",
       "        vertical-align: middle;\n",
       "    }\n",
       "\n",
       "    .dataframe tbody tr th {\n",
       "        vertical-align: top;\n",
       "    }\n",
       "\n",
       "    .dataframe thead th {\n",
       "        text-align: right;\n",
       "    }\n",
       "</style>\n",
       "<table border=\"1\" class=\"dataframe\">\n",
       "  <thead>\n",
       "    <tr style=\"text-align: right;\">\n",
       "      <th></th>\n",
       "      <th>Unnamed: 0</th>\n",
       "      <th>Tackles__Tkl</th>\n",
       "      <th>Tackles__TklW</th>\n",
       "      <th>Tackles__Def 3rd</th>\n",
       "      <th>Tackles__Mid 3rd</th>\n",
       "      <th>Tackles__Att 3rd</th>\n",
       "      <th>Challenges__Tkl</th>\n",
       "      <th>Challenges__Att</th>\n",
       "      <th>Challenges__Tkl%</th>\n",
       "      <th>Challenges__Lost</th>\n",
       "      <th>Blocks__Blocks</th>\n",
       "      <th>Blocks__Sh</th>\n",
       "      <th>Blocks__Pass</th>\n",
       "      <th>Int</th>\n",
       "      <th>Tkl+Int</th>\n",
       "      <th>Clr</th>\n",
       "      <th>Err</th>\n",
       "    </tr>\n",
       "  </thead>\n",
       "  <tbody>\n",
       "    <tr>\n",
       "      <th>0</th>\n",
       "      <td>0</td>\n",
       "      <td>19.0</td>\n",
       "      <td>13.0</td>\n",
       "      <td>10.0</td>\n",
       "      <td>9.0</td>\n",
       "      <td>0.0</td>\n",
       "      <td>8.0</td>\n",
       "      <td>15.0</td>\n",
       "      <td>53.3</td>\n",
       "      <td>7.0</td>\n",
       "      <td>14.0</td>\n",
       "      <td>5.0</td>\n",
       "      <td>9.0</td>\n",
       "      <td>14.0</td>\n",
       "      <td>33</td>\n",
       "      <td>17.0</td>\n",
       "      <td>1.0</td>\n",
       "    </tr>\n",
       "  </tbody>\n",
       "</table>\n",
       "</div>"
      ],
      "text/plain": [
       "   Unnamed: 0  Tackles__Tkl  Tackles__TklW  Tackles__Def 3rd  \\\n",
       "0           0          19.0           13.0              10.0   \n",
       "\n",
       "   Tackles__Mid 3rd  Tackles__Att 3rd  Challenges__Tkl  Challenges__Att  \\\n",
       "0               9.0               0.0              8.0             15.0   \n",
       "\n",
       "   Challenges__Tkl%  Challenges__Lost  Blocks__Blocks  Blocks__Sh  \\\n",
       "0              53.3               7.0            14.0         5.0   \n",
       "\n",
       "   Blocks__Pass   Int  Tkl+Int   Clr  Err  \n",
       "0           9.0  14.0       33  17.0  1.0  "
      ]
     },
     "execution_count": 6,
     "metadata": {},
     "output_type": "execute_result"
    }
   ],
   "source": [
    "# Defensive Actions Stats\n",
    "defensive_actions = pd.read_csv('eda_data/df_defensive_actions.csv')\n",
    "print(defensive_actions.shape)\n",
    "defensive_actions.head(1)"
   ]
  },
  {
   "cell_type": "code",
   "execution_count": 7,
   "metadata": {},
   "outputs": [
    {
     "name": "stdout",
     "output_type": "stream",
     "text": [
      "(16, 3)\n"
     ]
    },
    {
     "data": {
      "text/html": [
       "<div>\n",
       "<style scoped>\n",
       "    .dataframe tbody tr th:only-of-type {\n",
       "        vertical-align: middle;\n",
       "    }\n",
       "\n",
       "    .dataframe tbody tr th {\n",
       "        vertical-align: top;\n",
       "    }\n",
       "\n",
       "    .dataframe thead th {\n",
       "        text-align: right;\n",
       "    }\n",
       "</style>\n",
       "<table border=\"1\" class=\"dataframe\">\n",
       "  <thead>\n",
       "    <tr style=\"text-align: right;\">\n",
       "      <th></th>\n",
       "      <th>Unnamed: 0</th>\n",
       "      <th>Column</th>\n",
       "      <th>Explanation</th>\n",
       "    </tr>\n",
       "  </thead>\n",
       "  <tbody>\n",
       "    <tr>\n",
       "      <th>0</th>\n",
       "      <td>0</td>\n",
       "      <td>Tackles__Tkl</td>\n",
       "      <td>Total tackles made (Tackles)</td>\n",
       "    </tr>\n",
       "    <tr>\n",
       "      <th>1</th>\n",
       "      <td>1</td>\n",
       "      <td>Tackles__TklW</td>\n",
       "      <td>Tackles won (Tackles Won)</td>\n",
       "    </tr>\n",
       "    <tr>\n",
       "      <th>2</th>\n",
       "      <td>2</td>\n",
       "      <td>Tackles__Def 3rd</td>\n",
       "      <td>Tackles made in defensive third (Tackles in De...</td>\n",
       "    </tr>\n",
       "    <tr>\n",
       "      <th>3</th>\n",
       "      <td>3</td>\n",
       "      <td>Tackles__Mid 3rd</td>\n",
       "      <td>Tackles made in midfield (Tackles in Midfield)</td>\n",
       "    </tr>\n",
       "    <tr>\n",
       "      <th>4</th>\n",
       "      <td>4</td>\n",
       "      <td>Tackles__Att 3rd</td>\n",
       "      <td>Tackles made in attacking third (Tackles in At...</td>\n",
       "    </tr>\n",
       "    <tr>\n",
       "      <th>5</th>\n",
       "      <td>5</td>\n",
       "      <td>Challenges__Tkl</td>\n",
       "      <td>Tackles in challenges (Challenges Tackled)</td>\n",
       "    </tr>\n",
       "    <tr>\n",
       "      <th>6</th>\n",
       "      <td>6</td>\n",
       "      <td>Challenges__Att</td>\n",
       "      <td>Total challenges attempted (Challenges Attempted)</td>\n",
       "    </tr>\n",
       "    <tr>\n",
       "      <th>7</th>\n",
       "      <td>7</td>\n",
       "      <td>Challenges__Tkl%</td>\n",
       "      <td>Percentage of successful tackles in challenges...</td>\n",
       "    </tr>\n",
       "    <tr>\n",
       "      <th>8</th>\n",
       "      <td>8</td>\n",
       "      <td>Challenges__Lost</td>\n",
       "      <td>Challenges lost (Challenges Lost)</td>\n",
       "    </tr>\n",
       "    <tr>\n",
       "      <th>9</th>\n",
       "      <td>9</td>\n",
       "      <td>Blocks__Blocks</td>\n",
       "      <td>Blocks made (Blocks)</td>\n",
       "    </tr>\n",
       "    <tr>\n",
       "      <th>10</th>\n",
       "      <td>10</td>\n",
       "      <td>Blocks__Sh</td>\n",
       "      <td>Blocked shots (Shots Blocked)</td>\n",
       "    </tr>\n",
       "    <tr>\n",
       "      <th>11</th>\n",
       "      <td>11</td>\n",
       "      <td>Blocks__Pass</td>\n",
       "      <td>Blocked passes (Passes Blocked)</td>\n",
       "    </tr>\n",
       "    <tr>\n",
       "      <th>12</th>\n",
       "      <td>12</td>\n",
       "      <td>Int</td>\n",
       "      <td>Interceptions made (Interceptions)</td>\n",
       "    </tr>\n",
       "    <tr>\n",
       "      <th>13</th>\n",
       "      <td>13</td>\n",
       "      <td>Tkl+Int</td>\n",
       "      <td>Total tackles and interceptions (Tackles and I...</td>\n",
       "    </tr>\n",
       "    <tr>\n",
       "      <th>14</th>\n",
       "      <td>14</td>\n",
       "      <td>Clr</td>\n",
       "      <td>Clearances made (Clearances)</td>\n",
       "    </tr>\n",
       "    <tr>\n",
       "      <th>15</th>\n",
       "      <td>15</td>\n",
       "      <td>Err</td>\n",
       "      <td>Defensive errors (Defensive Errors)</td>\n",
       "    </tr>\n",
       "  </tbody>\n",
       "</table>\n",
       "</div>"
      ],
      "text/plain": [
       "    Unnamed: 0            Column  \\\n",
       "0            0      Tackles__Tkl   \n",
       "1            1     Tackles__TklW   \n",
       "2            2  Tackles__Def 3rd   \n",
       "3            3  Tackles__Mid 3rd   \n",
       "4            4  Tackles__Att 3rd   \n",
       "5            5   Challenges__Tkl   \n",
       "6            6   Challenges__Att   \n",
       "7            7  Challenges__Tkl%   \n",
       "8            8  Challenges__Lost   \n",
       "9            9    Blocks__Blocks   \n",
       "10          10        Blocks__Sh   \n",
       "11          11      Blocks__Pass   \n",
       "12          12               Int   \n",
       "13          13           Tkl+Int   \n",
       "14          14               Clr   \n",
       "15          15               Err   \n",
       "\n",
       "                                          Explanation  \n",
       "0                        Total tackles made (Tackles)  \n",
       "1                           Tackles won (Tackles Won)  \n",
       "2   Tackles made in defensive third (Tackles in De...  \n",
       "3      Tackles made in midfield (Tackles in Midfield)  \n",
       "4   Tackles made in attacking third (Tackles in At...  \n",
       "5          Tackles in challenges (Challenges Tackled)  \n",
       "6   Total challenges attempted (Challenges Attempted)  \n",
       "7   Percentage of successful tackles in challenges...  \n",
       "8                   Challenges lost (Challenges Lost)  \n",
       "9                                Blocks made (Blocks)  \n",
       "10                      Blocked shots (Shots Blocked)  \n",
       "11                    Blocked passes (Passes Blocked)  \n",
       "12                 Interceptions made (Interceptions)  \n",
       "13  Total tackles and interceptions (Tackles and I...  \n",
       "14                       Clearances made (Clearances)  \n",
       "15                Defensive errors (Defensive Errors)  "
      ]
     },
     "execution_count": 7,
     "metadata": {},
     "output_type": "execute_result"
    }
   ],
   "source": [
    "defensive_actions_explain = pd.read_csv('eda_data/df_defensive_actions_explained.csv')\n",
    "print(defensive_actions_explain.shape)\n",
    "defensive_actions_explain"
   ]
  },
  {
   "cell_type": "markdown",
   "metadata": {},
   "source": [
    "## Goal Keeping Stats"
   ]
  },
  {
   "cell_type": "code",
   "execution_count": 8,
   "metadata": {},
   "outputs": [
    {
     "name": "stdout",
     "output_type": "stream",
     "text": [
      "(5520, 26)\n"
     ]
    },
    {
     "data": {
      "text/html": [
       "<div>\n",
       "<style scoped>\n",
       "    .dataframe tbody tr th:only-of-type {\n",
       "        vertical-align: middle;\n",
       "    }\n",
       "\n",
       "    .dataframe tbody tr th {\n",
       "        vertical-align: top;\n",
       "    }\n",
       "\n",
       "    .dataframe thead th {\n",
       "        text-align: right;\n",
       "    }\n",
       "</style>\n",
       "<table border=\"1\" class=\"dataframe\">\n",
       "  <thead>\n",
       "    <tr style=\"text-align: right;\">\n",
       "      <th></th>\n",
       "      <th>Unnamed: 0</th>\n",
       "      <th>Performance__SoTA</th>\n",
       "      <th>Performance__GA</th>\n",
       "      <th>Performance__Saves</th>\n",
       "      <th>Performance__Save%</th>\n",
       "      <th>Performance__CS</th>\n",
       "      <th>Performance__PSxG</th>\n",
       "      <th>Performance__PSxG+/-</th>\n",
       "      <th>Penalty Kicks__PKatt</th>\n",
       "      <th>Penalty Kicks__PKA</th>\n",
       "      <th>...</th>\n",
       "      <th>Passes__Thr</th>\n",
       "      <th>Passes__Launch%</th>\n",
       "      <th>Passes__AvgLen</th>\n",
       "      <th>Goal Kicks__Att</th>\n",
       "      <th>Goal Kicks__Launch%</th>\n",
       "      <th>Goal Kicks__AvgLen</th>\n",
       "      <th>Crosses__Opp</th>\n",
       "      <th>Crosses__Stp</th>\n",
       "      <th>Crosses__Stp%</th>\n",
       "      <th>Sweeper__#OPA</th>\n",
       "    </tr>\n",
       "  </thead>\n",
       "  <tbody>\n",
       "    <tr>\n",
       "      <th>0</th>\n",
       "      <td>0</td>\n",
       "      <td>3.0</td>\n",
       "      <td>1.0</td>\n",
       "      <td>2.0</td>\n",
       "      <td>66.7</td>\n",
       "      <td>0.0</td>\n",
       "      <td>1.0</td>\n",
       "      <td>0.0</td>\n",
       "      <td>0.0</td>\n",
       "      <td>0.0</td>\n",
       "      <td>...</td>\n",
       "      <td>4.0</td>\n",
       "      <td>46.7</td>\n",
       "      <td>33.0</td>\n",
       "      <td>7.0</td>\n",
       "      <td>100.0</td>\n",
       "      <td>57.3</td>\n",
       "      <td>11.0</td>\n",
       "      <td>1.0</td>\n",
       "      <td>9.1</td>\n",
       "      <td>2.0</td>\n",
       "    </tr>\n",
       "  </tbody>\n",
       "</table>\n",
       "<p>1 rows × 26 columns</p>\n",
       "</div>"
      ],
      "text/plain": [
       "   Unnamed: 0  Performance__SoTA  Performance__GA  Performance__Saves  \\\n",
       "0           0                3.0              1.0                 2.0   \n",
       "\n",
       "   Performance__Save%  Performance__CS  Performance__PSxG  \\\n",
       "0                66.7              0.0                1.0   \n",
       "\n",
       "   Performance__PSxG+/-  Penalty Kicks__PKatt  Penalty Kicks__PKA  ...  \\\n",
       "0                   0.0                   0.0                 0.0  ...   \n",
       "\n",
       "   Passes__Thr  Passes__Launch%  Passes__AvgLen  Goal Kicks__Att  \\\n",
       "0          4.0             46.7            33.0              7.0   \n",
       "\n",
       "   Goal Kicks__Launch%  Goal Kicks__AvgLen  Crosses__Opp  Crosses__Stp  \\\n",
       "0                100.0                57.3          11.0           1.0   \n",
       "\n",
       "   Crosses__Stp%  Sweeper__#OPA  \n",
       "0            9.1            2.0  \n",
       "\n",
       "[1 rows x 26 columns]"
      ]
     },
     "execution_count": 8,
     "metadata": {},
     "output_type": "execute_result"
    }
   ],
   "source": [
    "goal_keeping = pd.read_csv('eda_data/df_goal_keeping.csv')\n",
    "print(goal_keeping.shape)\n",
    "goal_keeping.head(1)"
   ]
  },
  {
   "cell_type": "code",
   "execution_count": 9,
   "metadata": {},
   "outputs": [
    {
     "name": "stdout",
     "output_type": "stream",
     "text": [
      "(25, 3)\n"
     ]
    },
    {
     "data": {
      "text/html": [
       "<div>\n",
       "<style scoped>\n",
       "    .dataframe tbody tr th:only-of-type {\n",
       "        vertical-align: middle;\n",
       "    }\n",
       "\n",
       "    .dataframe tbody tr th {\n",
       "        vertical-align: top;\n",
       "    }\n",
       "\n",
       "    .dataframe thead th {\n",
       "        text-align: right;\n",
       "    }\n",
       "</style>\n",
       "<table border=\"1\" class=\"dataframe\">\n",
       "  <thead>\n",
       "    <tr style=\"text-align: right;\">\n",
       "      <th></th>\n",
       "      <th>Unnamed: 0</th>\n",
       "      <th>Column</th>\n",
       "      <th>Explanation</th>\n",
       "    </tr>\n",
       "  </thead>\n",
       "  <tbody>\n",
       "    <tr>\n",
       "      <th>0</th>\n",
       "      <td>0</td>\n",
       "      <td>Performance__SoTA</td>\n",
       "      <td>Total saves attempted (Saves Attempted)</td>\n",
       "    </tr>\n",
       "    <tr>\n",
       "      <th>1</th>\n",
       "      <td>1</td>\n",
       "      <td>Performance__GA</td>\n",
       "      <td>Goals conceded (Goals Against)</td>\n",
       "    </tr>\n",
       "    <tr>\n",
       "      <th>2</th>\n",
       "      <td>2</td>\n",
       "      <td>Performance__Saves</td>\n",
       "      <td>Saves made (Saves Made)</td>\n",
       "    </tr>\n",
       "    <tr>\n",
       "      <th>3</th>\n",
       "      <td>3</td>\n",
       "      <td>Performance__Save%</td>\n",
       "      <td>Save percentage (Save Percentage)</td>\n",
       "    </tr>\n",
       "    <tr>\n",
       "      <th>4</th>\n",
       "      <td>4</td>\n",
       "      <td>Performance__CS</td>\n",
       "      <td>Clean sheets (Clean Sheets)</td>\n",
       "    </tr>\n",
       "    <tr>\n",
       "      <th>5</th>\n",
       "      <td>5</td>\n",
       "      <td>Performance__PSxG</td>\n",
       "      <td>Post-shot expected goals saved (Post-Shot Expe...</td>\n",
       "    </tr>\n",
       "    <tr>\n",
       "      <th>6</th>\n",
       "      <td>6</td>\n",
       "      <td>Performance__PSxG+/-</td>\n",
       "      <td>Difference between post-shot expected goals sa...</td>\n",
       "    </tr>\n",
       "    <tr>\n",
       "      <th>7</th>\n",
       "      <td>7</td>\n",
       "      <td>Penalty Kicks__PKatt</td>\n",
       "      <td>Penalty kicks attempted (Penalty Kicks Attempted)</td>\n",
       "    </tr>\n",
       "    <tr>\n",
       "      <th>8</th>\n",
       "      <td>8</td>\n",
       "      <td>Penalty Kicks__PKA</td>\n",
       "      <td>Penalty kicks against (Penalty Kicks Against)</td>\n",
       "    </tr>\n",
       "    <tr>\n",
       "      <th>9</th>\n",
       "      <td>9</td>\n",
       "      <td>Penalty Kicks__PKsv</td>\n",
       "      <td>Penalty kicks saved (Penalty Kicks Saved)</td>\n",
       "    </tr>\n",
       "    <tr>\n",
       "      <th>10</th>\n",
       "      <td>10</td>\n",
       "      <td>Penalty Kicks__PKm</td>\n",
       "      <td>Penalty kicks missed (Penalty Kicks Missed)</td>\n",
       "    </tr>\n",
       "    <tr>\n",
       "      <th>11</th>\n",
       "      <td>11</td>\n",
       "      <td>Launched__Cmp</td>\n",
       "      <td>Completed long passes (Long Passes Completed)</td>\n",
       "    </tr>\n",
       "    <tr>\n",
       "      <th>12</th>\n",
       "      <td>12</td>\n",
       "      <td>Launched__Att</td>\n",
       "      <td>Attempted long passes (Long Passes Attempted)</td>\n",
       "    </tr>\n",
       "    <tr>\n",
       "      <th>13</th>\n",
       "      <td>13</td>\n",
       "      <td>Launched__Cmp%</td>\n",
       "      <td>Long pass completion percentage (Long Pass Com...</td>\n",
       "    </tr>\n",
       "    <tr>\n",
       "      <th>14</th>\n",
       "      <td>14</td>\n",
       "      <td>Passes__Att (GK)</td>\n",
       "      <td>Goalkeeper passes attempted (Goalkeeper Passes...</td>\n",
       "    </tr>\n",
       "    <tr>\n",
       "      <th>15</th>\n",
       "      <td>15</td>\n",
       "      <td>Passes__Thr</td>\n",
       "      <td>Through passes (Through Passes)</td>\n",
       "    </tr>\n",
       "    <tr>\n",
       "      <th>16</th>\n",
       "      <td>16</td>\n",
       "      <td>Passes__Launch%</td>\n",
       "      <td>Percentage of successful long passes (Launch P...</td>\n",
       "    </tr>\n",
       "    <tr>\n",
       "      <th>17</th>\n",
       "      <td>17</td>\n",
       "      <td>Passes__AvgLen</td>\n",
       "      <td>Average length of goal kicks (Goal Kick Averag...</td>\n",
       "    </tr>\n",
       "    <tr>\n",
       "      <th>18</th>\n",
       "      <td>18</td>\n",
       "      <td>Goal Kicks__Att</td>\n",
       "      <td>Goal kicks attempted (Goal Kicks Attempted)</td>\n",
       "    </tr>\n",
       "    <tr>\n",
       "      <th>19</th>\n",
       "      <td>19</td>\n",
       "      <td>Goal Kicks__Launch%</td>\n",
       "      <td>Percentage of successful goal kicks (Goal Kick...</td>\n",
       "    </tr>\n",
       "    <tr>\n",
       "      <th>20</th>\n",
       "      <td>20</td>\n",
       "      <td>Goal Kicks__AvgLen</td>\n",
       "      <td>AVG Length of GoalKick (Goal Kicks Length)</td>\n",
       "    </tr>\n",
       "    <tr>\n",
       "      <th>21</th>\n",
       "      <td>21</td>\n",
       "      <td>Crosses__Opp</td>\n",
       "      <td>Crosses into the opponent’s box (Crosses Oppon...</td>\n",
       "    </tr>\n",
       "    <tr>\n",
       "      <th>22</th>\n",
       "      <td>22</td>\n",
       "      <td>Crosses__Stp</td>\n",
       "      <td>Crosses stopped (Crosses Stopped)</td>\n",
       "    </tr>\n",
       "    <tr>\n",
       "      <th>23</th>\n",
       "      <td>23</td>\n",
       "      <td>Crosses__Stp%</td>\n",
       "      <td>Percentage of crosses stopped (Crosses Stopped...</td>\n",
       "    </tr>\n",
       "    <tr>\n",
       "      <th>24</th>\n",
       "      <td>24</td>\n",
       "      <td>Sweeper__#OPA</td>\n",
       "      <td>Number of sweeper operations (Sweeper Operations)</td>\n",
       "    </tr>\n",
       "  </tbody>\n",
       "</table>\n",
       "</div>"
      ],
      "text/plain": [
       "    Unnamed: 0                Column  \\\n",
       "0            0     Performance__SoTA   \n",
       "1            1       Performance__GA   \n",
       "2            2    Performance__Saves   \n",
       "3            3    Performance__Save%   \n",
       "4            4       Performance__CS   \n",
       "5            5     Performance__PSxG   \n",
       "6            6  Performance__PSxG+/-   \n",
       "7            7  Penalty Kicks__PKatt   \n",
       "8            8    Penalty Kicks__PKA   \n",
       "9            9   Penalty Kicks__PKsv   \n",
       "10          10    Penalty Kicks__PKm   \n",
       "11          11         Launched__Cmp   \n",
       "12          12         Launched__Att   \n",
       "13          13        Launched__Cmp%   \n",
       "14          14      Passes__Att (GK)   \n",
       "15          15           Passes__Thr   \n",
       "16          16       Passes__Launch%   \n",
       "17          17        Passes__AvgLen   \n",
       "18          18       Goal Kicks__Att   \n",
       "19          19   Goal Kicks__Launch%   \n",
       "20          20    Goal Kicks__AvgLen   \n",
       "21          21          Crosses__Opp   \n",
       "22          22          Crosses__Stp   \n",
       "23          23         Crosses__Stp%   \n",
       "24          24         Sweeper__#OPA   \n",
       "\n",
       "                                          Explanation  \n",
       "0             Total saves attempted (Saves Attempted)  \n",
       "1                      Goals conceded (Goals Against)  \n",
       "2                             Saves made (Saves Made)  \n",
       "3                   Save percentage (Save Percentage)  \n",
       "4                         Clean sheets (Clean Sheets)  \n",
       "5   Post-shot expected goals saved (Post-Shot Expe...  \n",
       "6   Difference between post-shot expected goals sa...  \n",
       "7   Penalty kicks attempted (Penalty Kicks Attempted)  \n",
       "8       Penalty kicks against (Penalty Kicks Against)  \n",
       "9           Penalty kicks saved (Penalty Kicks Saved)  \n",
       "10        Penalty kicks missed (Penalty Kicks Missed)  \n",
       "11      Completed long passes (Long Passes Completed)  \n",
       "12      Attempted long passes (Long Passes Attempted)  \n",
       "13  Long pass completion percentage (Long Pass Com...  \n",
       "14  Goalkeeper passes attempted (Goalkeeper Passes...  \n",
       "15                    Through passes (Through Passes)  \n",
       "16  Percentage of successful long passes (Launch P...  \n",
       "17  Average length of goal kicks (Goal Kick Averag...  \n",
       "18        Goal kicks attempted (Goal Kicks Attempted)  \n",
       "19  Percentage of successful goal kicks (Goal Kick...  \n",
       "20         AVG Length of GoalKick (Goal Kicks Length)  \n",
       "21  Crosses into the opponent’s box (Crosses Oppon...  \n",
       "22                  Crosses stopped (Crosses Stopped)  \n",
       "23  Percentage of crosses stopped (Crosses Stopped...  \n",
       "24  Number of sweeper operations (Sweeper Operations)  "
      ]
     },
     "execution_count": 9,
     "metadata": {},
     "output_type": "execute_result"
    }
   ],
   "source": [
    "goal_keeping_explain = pd.read_csv('eda_data/df_goal_keeping_explained.csv')\n",
    "print(goal_keeping_explain.shape)\n",
    "goal_keeping_explain"
   ]
  },
  {
   "cell_type": "markdown",
   "metadata": {},
   "source": [
    "## Goal Shots Creation Stats"
   ]
  },
  {
   "cell_type": "code",
   "execution_count": 10,
   "metadata": {},
   "outputs": [
    {
     "name": "stdout",
     "output_type": "stream",
     "text": [
      "(5520, 15)\n"
     ]
    },
    {
     "data": {
      "text/html": [
       "<div>\n",
       "<style scoped>\n",
       "    .dataframe tbody tr th:only-of-type {\n",
       "        vertical-align: middle;\n",
       "    }\n",
       "\n",
       "    .dataframe tbody tr th {\n",
       "        vertical-align: top;\n",
       "    }\n",
       "\n",
       "    .dataframe thead th {\n",
       "        text-align: right;\n",
       "    }\n",
       "</style>\n",
       "<table border=\"1\" class=\"dataframe\">\n",
       "  <thead>\n",
       "    <tr style=\"text-align: right;\">\n",
       "      <th></th>\n",
       "      <th>Unnamed: 0</th>\n",
       "      <th>SCA Types__SCA</th>\n",
       "      <th>SCA Types__PassLive</th>\n",
       "      <th>SCA Types__PassDead</th>\n",
       "      <th>SCA Types__TO</th>\n",
       "      <th>SCA Types__Sh</th>\n",
       "      <th>SCA Types__Fld</th>\n",
       "      <th>SCA Types__Def</th>\n",
       "      <th>GCA Types__GCA</th>\n",
       "      <th>GCA Types__PassLive</th>\n",
       "      <th>GCA Types__PassDead</th>\n",
       "      <th>GCA Types__TO</th>\n",
       "      <th>GCA Types__Sh</th>\n",
       "      <th>GCA Types__Fld</th>\n",
       "      <th>GCA Types__Def</th>\n",
       "    </tr>\n",
       "  </thead>\n",
       "  <tbody>\n",
       "    <tr>\n",
       "      <th>0</th>\n",
       "      <td>0</td>\n",
       "      <td>15.0</td>\n",
       "      <td>7.0</td>\n",
       "      <td>3.0</td>\n",
       "      <td>1.0</td>\n",
       "      <td>0.0</td>\n",
       "      <td>4.0</td>\n",
       "      <td>0.0</td>\n",
       "      <td>0.0</td>\n",
       "      <td>0.0</td>\n",
       "      <td>0.0</td>\n",
       "      <td>0.0</td>\n",
       "      <td>0.0</td>\n",
       "      <td>0.0</td>\n",
       "      <td>0.0</td>\n",
       "    </tr>\n",
       "  </tbody>\n",
       "</table>\n",
       "</div>"
      ],
      "text/plain": [
       "   Unnamed: 0  SCA Types__SCA  SCA Types__PassLive  SCA Types__PassDead  \\\n",
       "0           0            15.0                  7.0                  3.0   \n",
       "\n",
       "   SCA Types__TO  SCA Types__Sh  SCA Types__Fld  SCA Types__Def  \\\n",
       "0            1.0            0.0             4.0             0.0   \n",
       "\n",
       "   GCA Types__GCA  GCA Types__PassLive  GCA Types__PassDead  GCA Types__TO  \\\n",
       "0             0.0                  0.0                  0.0            0.0   \n",
       "\n",
       "   GCA Types__Sh  GCA Types__Fld  GCA Types__Def  \n",
       "0            0.0             0.0             0.0  "
      ]
     },
     "execution_count": 10,
     "metadata": {},
     "output_type": "execute_result"
    }
   ],
   "source": [
    "goal_shot_creation = pd.read_csv('eda_data/df_goal_shot_creation.csv')\n",
    "print(goal_shot_creation.shape)\n",
    "goal_shot_creation.head(1)"
   ]
  },
  {
   "cell_type": "code",
   "execution_count": 11,
   "metadata": {},
   "outputs": [
    {
     "name": "stdout",
     "output_type": "stream",
     "text": [
      "(14, 3)\n"
     ]
    },
    {
     "data": {
      "text/html": [
       "<div>\n",
       "<style scoped>\n",
       "    .dataframe tbody tr th:only-of-type {\n",
       "        vertical-align: middle;\n",
       "    }\n",
       "\n",
       "    .dataframe tbody tr th {\n",
       "        vertical-align: top;\n",
       "    }\n",
       "\n",
       "    .dataframe thead th {\n",
       "        text-align: right;\n",
       "    }\n",
       "</style>\n",
       "<table border=\"1\" class=\"dataframe\">\n",
       "  <thead>\n",
       "    <tr style=\"text-align: right;\">\n",
       "      <th></th>\n",
       "      <th>Unnamed: 0</th>\n",
       "      <th>Column</th>\n",
       "      <th>Explanation</th>\n",
       "    </tr>\n",
       "  </thead>\n",
       "  <tbody>\n",
       "    <tr>\n",
       "      <th>0</th>\n",
       "      <td>0</td>\n",
       "      <td>SCA Types__SCA</td>\n",
       "      <td>Total shot-creating actions (Shot-Creating Act...</td>\n",
       "    </tr>\n",
       "    <tr>\n",
       "      <th>1</th>\n",
       "      <td>1</td>\n",
       "      <td>SCA Types__PassLive</td>\n",
       "      <td>Shot-creating actions from live passes (Live P...</td>\n",
       "    </tr>\n",
       "    <tr>\n",
       "      <th>2</th>\n",
       "      <td>2</td>\n",
       "      <td>SCA Types__PassDead</td>\n",
       "      <td>Shot-creating actions from dead passes (Dead P...</td>\n",
       "    </tr>\n",
       "    <tr>\n",
       "      <th>3</th>\n",
       "      <td>3</td>\n",
       "      <td>SCA Types__TO</td>\n",
       "      <td>Shot-creating actions from turnovers (Turnover...</td>\n",
       "    </tr>\n",
       "    <tr>\n",
       "      <th>4</th>\n",
       "      <td>4</td>\n",
       "      <td>SCA Types__Sh</td>\n",
       "      <td>Shot-creating actions from shots (Shots for Sh...</td>\n",
       "    </tr>\n",
       "    <tr>\n",
       "      <th>5</th>\n",
       "      <td>5</td>\n",
       "      <td>SCA Types__Fld</td>\n",
       "      <td>Shot-creating actions from fouls (Fouls for Sh...</td>\n",
       "    </tr>\n",
       "    <tr>\n",
       "      <th>6</th>\n",
       "      <td>6</td>\n",
       "      <td>SCA Types__Def</td>\n",
       "      <td>Shot-creating actions from defensive actions (...</td>\n",
       "    </tr>\n",
       "    <tr>\n",
       "      <th>7</th>\n",
       "      <td>7</td>\n",
       "      <td>GCA Types__GCA</td>\n",
       "      <td>Total goal-creating actions (Goal-Creating Act...</td>\n",
       "    </tr>\n",
       "    <tr>\n",
       "      <th>8</th>\n",
       "      <td>8</td>\n",
       "      <td>GCA Types__PassLive</td>\n",
       "      <td>Goal-creating actions from live passes (Live P...</td>\n",
       "    </tr>\n",
       "    <tr>\n",
       "      <th>9</th>\n",
       "      <td>9</td>\n",
       "      <td>GCA Types__PassDead</td>\n",
       "      <td>Goal-creating actions from dead passes (Dead P...</td>\n",
       "    </tr>\n",
       "    <tr>\n",
       "      <th>10</th>\n",
       "      <td>10</td>\n",
       "      <td>GCA Types__TO</td>\n",
       "      <td>Goal-creating actions from turnovers (Turnover...</td>\n",
       "    </tr>\n",
       "    <tr>\n",
       "      <th>11</th>\n",
       "      <td>11</td>\n",
       "      <td>GCA Types__Sh</td>\n",
       "      <td>Goal-creating actions from shots (Shots for Go...</td>\n",
       "    </tr>\n",
       "    <tr>\n",
       "      <th>12</th>\n",
       "      <td>12</td>\n",
       "      <td>GCA Types__Fld</td>\n",
       "      <td>Goal-creating actions from fouls (Fouls for Go...</td>\n",
       "    </tr>\n",
       "    <tr>\n",
       "      <th>13</th>\n",
       "      <td>13</td>\n",
       "      <td>GCA Types__Def</td>\n",
       "      <td>Goal-creating actions from defensive actions (...</td>\n",
       "    </tr>\n",
       "  </tbody>\n",
       "</table>\n",
       "</div>"
      ],
      "text/plain": [
       "    Unnamed: 0               Column  \\\n",
       "0            0       SCA Types__SCA   \n",
       "1            1  SCA Types__PassLive   \n",
       "2            2  SCA Types__PassDead   \n",
       "3            3        SCA Types__TO   \n",
       "4            4        SCA Types__Sh   \n",
       "5            5       SCA Types__Fld   \n",
       "6            6       SCA Types__Def   \n",
       "7            7       GCA Types__GCA   \n",
       "8            8  GCA Types__PassLive   \n",
       "9            9  GCA Types__PassDead   \n",
       "10          10        GCA Types__TO   \n",
       "11          11        GCA Types__Sh   \n",
       "12          12       GCA Types__Fld   \n",
       "13          13       GCA Types__Def   \n",
       "\n",
       "                                          Explanation  \n",
       "0   Total shot-creating actions (Shot-Creating Act...  \n",
       "1   Shot-creating actions from live passes (Live P...  \n",
       "2   Shot-creating actions from dead passes (Dead P...  \n",
       "3   Shot-creating actions from turnovers (Turnover...  \n",
       "4   Shot-creating actions from shots (Shots for Sh...  \n",
       "5   Shot-creating actions from fouls (Fouls for Sh...  \n",
       "6   Shot-creating actions from defensive actions (...  \n",
       "7   Total goal-creating actions (Goal-Creating Act...  \n",
       "8   Goal-creating actions from live passes (Live P...  \n",
       "9   Goal-creating actions from dead passes (Dead P...  \n",
       "10  Goal-creating actions from turnovers (Turnover...  \n",
       "11  Goal-creating actions from shots (Shots for Go...  \n",
       "12  Goal-creating actions from fouls (Fouls for Go...  \n",
       "13  Goal-creating actions from defensive actions (...  "
      ]
     },
     "execution_count": 11,
     "metadata": {},
     "output_type": "execute_result"
    }
   ],
   "source": [
    "goal_shot_creation_explain = pd.read_csv('eda_data/df_goal_shot_creation_explained.csv')\n",
    "print(goal_shot_creation_explain.shape)\n",
    "goal_shot_creation_explain"
   ]
  },
  {
   "cell_type": "markdown",
   "metadata": {},
   "source": [
    "# EDA1: Shooting"
   ]
  },
  {
   "cell_type": "markdown",
   "metadata": {},
   "source": [
    "## Create shoot_to_result dataFrame"
   ]
  },
  {
   "cell_type": "code",
   "execution_count": 12,
   "metadata": {},
   "outputs": [
    {
     "data": {
      "text/html": [
       "<div>\n",
       "<style scoped>\n",
       "    .dataframe tbody tr th:only-of-type {\n",
       "        vertical-align: middle;\n",
       "    }\n",
       "\n",
       "    .dataframe tbody tr th {\n",
       "        vertical-align: top;\n",
       "    }\n",
       "\n",
       "    .dataframe thead th {\n",
       "        text-align: right;\n",
       "    }\n",
       "</style>\n",
       "<table border=\"1\" class=\"dataframe\">\n",
       "  <thead>\n",
       "    <tr style=\"text-align: right;\">\n",
       "      <th></th>\n",
       "      <th>Unnamed: 0</th>\n",
       "      <th>Time</th>\n",
       "      <th>Team</th>\n",
       "      <th>Opponent</th>\n",
       "      <th>GF</th>\n",
       "      <th>GA</th>\n",
       "      <th>Unnamed: 0</th>\n",
       "      <th>Standard__Gls</th>\n",
       "      <th>Standard__Sh</th>\n",
       "      <th>Standard__SoT</th>\n",
       "      <th>Standard__SoT%</th>\n",
       "      <th>Standard__G/Sh</th>\n",
       "      <th>Standard__G/SoT</th>\n",
       "      <th>Standard__Dist</th>\n",
       "      <th>Standard__FK</th>\n",
       "      <th>Standard__PK</th>\n",
       "      <th>Standard__PKatt</th>\n",
       "      <th>Win</th>\n",
       "    </tr>\n",
       "  </thead>\n",
       "  <tbody>\n",
       "    <tr>\n",
       "      <th>0</th>\n",
       "      <td>0</td>\n",
       "      <td>2017-08-18 20:15:00</td>\n",
       "      <td>Alaves</td>\n",
       "      <td>Leganes</td>\n",
       "      <td>0.0</td>\n",
       "      <td>1.0</td>\n",
       "      <td>0</td>\n",
       "      <td>0</td>\n",
       "      <td>8.0</td>\n",
       "      <td>4.0</td>\n",
       "      <td>50.0</td>\n",
       "      <td>0.0</td>\n",
       "      <td>0.0</td>\n",
       "      <td>22.8</td>\n",
       "      <td>0.0</td>\n",
       "      <td>0</td>\n",
       "      <td>1</td>\n",
       "      <td>-1</td>\n",
       "    </tr>\n",
       "  </tbody>\n",
       "</table>\n",
       "</div>"
      ],
      "text/plain": [
       "   Unnamed: 0                 Time    Team Opponent   GF   GA  Unnamed: 0  \\\n",
       "0           0  2017-08-18 20:15:00  Alaves  Leganes  0.0  1.0           0   \n",
       "\n",
       "   Standard__Gls  Standard__Sh  Standard__SoT  Standard__SoT%  Standard__G/Sh  \\\n",
       "0              0           8.0            4.0            50.0             0.0   \n",
       "\n",
       "   Standard__G/SoT  Standard__Dist  Standard__FK  Standard__PK  \\\n",
       "0              0.0            22.8           0.0             0   \n",
       "\n",
       "   Standard__PKatt  Win  \n",
       "0                1   -1  "
      ]
     },
     "execution_count": 12,
     "metadata": {},
     "output_type": "execute_result"
    }
   ],
   "source": [
    "#match_result = match_result.drop(columns=['Unnamed'])\n",
    "#shooting = shooting.drop(columns=['Unnamed'])\n",
    "\n",
    "shoot_to_result = pd.concat([match_result, shooting], axis=1)\n",
    "\n",
    "# Thêm cột 'Win' theo điều kiện\n",
    "shoot_to_result['Win'] = shoot_to_result.apply(\n",
    "    lambda row: 1 if row['GF'] > row['GA'] else (0 if row['GF'] == row['GA'] else -1),\n",
    "    axis=1\n",
    ")\n",
    "\n",
    "# Hiển thị kết quả\n",
    "shoot_to_result.head(1)"
   ]
  },
  {
   "cell_type": "markdown",
   "metadata": {},
   "source": [
    "## Correlation"
   ]
  },
  {
   "cell_type": "code",
   "execution_count": 13,
   "metadata": {},
   "outputs": [],
   "source": [
    "# List of shooting-related columns\n",
    "shooting_columns = [\n",
    "    'Standard__Gls', 'Standard__Sh', 'Standard__SoT', 'Standard__SoT%', \n",
    "    'Standard__G/Sh', 'Standard__G/SoT', 'Standard__Dist', 'Standard__FK', \n",
    "    'Standard__PK', 'Standard__PKatt'\n",
    "]\n",
    "\n",
    "# Select the relevant columns: shooting-related columns and GF/Win columns\n",
    "temp_df = shoot_to_result[shooting_columns + ['GF', 'Win']]\n",
    "\n",
    "# Calculate the correlation between the selected columns and 'GF'\n",
    "correlation_shooting_GF = temp_df[shooting_columns + ['GF']].corr()\n",
    "\n",
    "# Calculate the correlation between the selected columns and 'Win'\n",
    "correlation_shooting_Win = temp_df[shooting_columns + ['Win']].corr()\n",
    "\n",
    "# Optionally, save the correlation matrices to CSV files\n",
    "#correlation_shooting_GF.to_csv('eda_data/correlation_shooting_GF.csv')\n",
    "#correlation_shooting_Win.to_csv('eda_data/correlation_shooting_Win.csv')\n"
   ]
  },
  {
   "cell_type": "markdown",
   "metadata": {},
   "source": [
    "### Shoot to goals"
   ]
  },
  {
   "cell_type": "code",
   "execution_count": 14,
   "metadata": {},
   "outputs": [
    {
     "name": "stdout",
     "output_type": "stream",
     "text": [
      "Standard__Sh       0.253375\n",
      "Standard__SoT      0.553236\n",
      "Standard__SoT%     0.445238\n",
      "Standard__G/Sh     0.761364\n",
      "Standard__G/SoT    0.636913\n",
      "Standard__Dist    -0.228074\n",
      "Standard__FK       0.026042\n",
      "Standard__PK       0.270969\n",
      "Standard__PKatt    0.245409\n",
      "Name: GF, dtype: float64\n"
     ]
    }
   ],
   "source": [
    "# Drop the first and last row using slicing on the DataFrame\n",
    "correlation_shooting_GF_cleaned = correlation_shooting_GF[1:-1]\n",
    "\n",
    "print(correlation_shooting_GF_cleaned['GF'])\n"
   ]
  },
  {
   "cell_type": "code",
   "execution_count": 15,
   "metadata": {},
   "outputs": [
    {
     "name": "stdout",
     "output_type": "stream",
     "text": [
      "Files saved: good_shooting_features.csv and potential_shooting_features.csv\n"
     ]
    }
   ],
   "source": [
    "# Chọn các hàng có tương quan từ 0.4 hoặc -0.4 trở lên với 'GF'\n",
    "good_shooting_features = correlation_shooting_GF_cleaned[(correlation_shooting_GF_cleaned['GF'] >= 0.4) | (correlation_shooting_GF_cleaned['GF'] <= -0.4)]\n",
    "\n",
    "# Chọn các hàng có tương quan từ 0.2 đến 0.4 và -0.2 đến -0.4 với 'GF'\n",
    "potential_shooting_features = correlation_shooting_GF_cleaned[((correlation_shooting_GF_cleaned['GF'] >= 0.2) & (correlation_shooting_GF_cleaned['GF'] < 0.4)) | \n",
    "                                                    ((correlation_shooting_GF_cleaned['GF'] <= -0.2) & (correlation_shooting_GF_cleaned['GF'] > -0.4))]\n",
    "\n",
    "# Lưu các DataFrame vào file CSV\n",
    "good_shooting_features = good_shooting_features['GF']\n",
    "potential_shooting_features = potential_shooting_features['GF']\n",
    "good_shooting_features.to_csv('eda_data/selected/good_shooting_features.csv', index=False)\n",
    "potential_shooting_features.to_csv('eda_data/selected/potential_shooting_features.csv', index=False)\n",
    "\n",
    "print(\"Files saved: good_shooting_features.csv and potential_shooting_features.csv\")"
   ]
  },
  {
   "cell_type": "code",
   "execution_count": 16,
   "metadata": {},
   "outputs": [
    {
     "data": {
      "text/plain": [
       "Standard__SoT      0.553236\n",
       "Standard__SoT%     0.445238\n",
       "Standard__G/Sh     0.761364\n",
       "Standard__G/SoT    0.636913\n",
       "Name: GF, dtype: float64"
      ]
     },
     "execution_count": 16,
     "metadata": {},
     "output_type": "execute_result"
    }
   ],
   "source": [
    "good_shooting_features"
   ]
  },
  {
   "cell_type": "code",
   "execution_count": 17,
   "metadata": {},
   "outputs": [
    {
     "data": {
      "text/plain": [
       "Standard__Sh       0.253375\n",
       "Standard__Dist    -0.228074\n",
       "Standard__PK       0.270969\n",
       "Standard__PKatt    0.245409\n",
       "Name: GF, dtype: float64"
      ]
     },
     "execution_count": 17,
     "metadata": {},
     "output_type": "execute_result"
    }
   ],
   "source": [
    "potential_shooting_features"
   ]
  },
  {
   "cell_type": "markdown",
   "metadata": {},
   "source": [
    "### Shot to win"
   ]
  },
  {
   "cell_type": "code",
   "execution_count": 18,
   "metadata": {},
   "outputs": [
    {
     "name": "stdout",
     "output_type": "stream",
     "text": [
      "Standard__Gls      0.612435\n",
      "Standard__Sh       0.151834\n",
      "Standard__SoT      0.360333\n",
      "Standard__SoT%     0.319410\n",
      "Standard__G/Sh     0.507000\n",
      "Standard__G/SoT    0.436104\n",
      "Standard__Dist    -0.147743\n",
      "Standard__FK      -0.007630\n",
      "Standard__PK       0.168407\n",
      "Standard__PKatt    0.152866\n",
      "Name: Win, dtype: float64\n"
     ]
    }
   ],
   "source": [
    "# Drop the first and last row using slicing on the DataFrame\n",
    "correlation_shooting_Win_cleaned = correlation_shooting_Win[0:-1]\n",
    "\n",
    "print(correlation_shooting_Win_cleaned['Win'])"
   ]
  },
  {
   "cell_type": "code",
   "execution_count": 19,
   "metadata": {},
   "outputs": [
    {
     "name": "stdout",
     "output_type": "stream",
     "text": [
      "Files saved: good_shooting_features_win.csv and potential_shooting_features_win.csv\n"
     ]
    }
   ],
   "source": [
    "# Chọn các hàng có tương quan từ 0.4 hoặc -0.4 trở lên với 'Win'\n",
    "good_shooting_features_win = correlation_shooting_Win_cleaned[(correlation_shooting_Win_cleaned['Win'] >= 0.4) | (correlation_shooting_Win_cleaned['Win'] <= -0.4)]\n",
    "\n",
    "# Chọn các hàng có tương quan từ 0.2 đến 0.4 và -0.2 đến -0.4 với 'Win'\n",
    "potential_shooting_features_win = correlation_shooting_Win_cleaned[((correlation_shooting_Win_cleaned['Win'] >= 0.2) & (correlation_shooting_Win_cleaned['Win'] < 0.4)) | \n",
    "                                                    ((correlation_shooting_Win_cleaned['Win'] <= -0.2) & (correlation_shooting_Win_cleaned['Win'] > -0.4))]\n",
    "\n",
    "# Lưu các DataFrame vào file CSV\n",
    "good_shooting_features_win = good_shooting_features_win['Win']\n",
    "potential_shooting_features_win = potential_shooting_features_win['Win']\n",
    "good_shooting_features_win.to_csv('eda_data/selected/good_shooting_features_to_win.csv', index=False)\n",
    "potential_shooting_features_win.to_csv('eda_data/selected/potential_shooting_features_to_win.csv', index=False)\n",
    "\n",
    "print(\"Files saved: good_shooting_features_win.csv and potential_shooting_features_win.csv\")\n"
   ]
  },
  {
   "cell_type": "code",
   "execution_count": 20,
   "metadata": {},
   "outputs": [
    {
     "data": {
      "text/plain": [
       "Standard__Gls      0.612435\n",
       "Standard__G/Sh     0.507000\n",
       "Standard__G/SoT    0.436104\n",
       "Name: Win, dtype: float64"
      ]
     },
     "execution_count": 20,
     "metadata": {},
     "output_type": "execute_result"
    }
   ],
   "source": [
    "good_shooting_features_win"
   ]
  },
  {
   "cell_type": "code",
   "execution_count": 21,
   "metadata": {},
   "outputs": [
    {
     "data": {
      "text/plain": [
       "Standard__SoT     0.360333\n",
       "Standard__SoT%    0.319410\n",
       "Name: Win, dtype: float64"
      ]
     },
     "execution_count": 21,
     "metadata": {},
     "output_type": "execute_result"
    }
   ],
   "source": [
    "potential_shooting_features_win"
   ]
  },
  {
   "cell_type": "markdown",
   "metadata": {},
   "source": [
    "# EDA 2: Goal Keeping"
   ]
  },
  {
   "cell_type": "code",
   "execution_count": 22,
   "metadata": {},
   "outputs": [],
   "source": [
    "match_result['Win'] = match_result.apply(\n",
    "    lambda row: 1 if row['GF'] > row['GA'] else (0 if row['GF'] == row['GA'] else -1),\n",
    "    axis=1)"
   ]
  },
  {
   "cell_type": "code",
   "execution_count": 23,
   "metadata": {},
   "outputs": [
    {
     "data": {
      "text/html": [
       "<div>\n",
       "<style scoped>\n",
       "    .dataframe tbody tr th:only-of-type {\n",
       "        vertical-align: middle;\n",
       "    }\n",
       "\n",
       "    .dataframe tbody tr th {\n",
       "        vertical-align: top;\n",
       "    }\n",
       "\n",
       "    .dataframe thead th {\n",
       "        text-align: right;\n",
       "    }\n",
       "</style>\n",
       "<table border=\"1\" class=\"dataframe\">\n",
       "  <thead>\n",
       "    <tr style=\"text-align: right;\">\n",
       "      <th></th>\n",
       "      <th>Unnamed: 0</th>\n",
       "      <th>Time</th>\n",
       "      <th>Team</th>\n",
       "      <th>Opponent</th>\n",
       "      <th>GF</th>\n",
       "      <th>GA</th>\n",
       "      <th>Win</th>\n",
       "      <th>Performance__SoTA</th>\n",
       "      <th>Performance__GA</th>\n",
       "      <th>Performance__Saves</th>\n",
       "      <th>...</th>\n",
       "      <th>Passes__Thr</th>\n",
       "      <th>Passes__Launch%</th>\n",
       "      <th>Passes__AvgLen</th>\n",
       "      <th>Goal Kicks__Att</th>\n",
       "      <th>Goal Kicks__Launch%</th>\n",
       "      <th>Goal Kicks__AvgLen</th>\n",
       "      <th>Crosses__Opp</th>\n",
       "      <th>Crosses__Stp</th>\n",
       "      <th>Crosses__Stp%</th>\n",
       "      <th>Sweeper__#OPA</th>\n",
       "    </tr>\n",
       "  </thead>\n",
       "  <tbody>\n",
       "    <tr>\n",
       "      <th>0</th>\n",
       "      <td>0</td>\n",
       "      <td>2017-08-18 20:15:00</td>\n",
       "      <td>Alaves</td>\n",
       "      <td>Leganes</td>\n",
       "      <td>0.0</td>\n",
       "      <td>1.0</td>\n",
       "      <td>-1</td>\n",
       "      <td>3.0</td>\n",
       "      <td>1.0</td>\n",
       "      <td>2.0</td>\n",
       "      <td>...</td>\n",
       "      <td>4.0</td>\n",
       "      <td>46.7</td>\n",
       "      <td>33.0</td>\n",
       "      <td>7.0</td>\n",
       "      <td>100.0</td>\n",
       "      <td>57.3</td>\n",
       "      <td>11.0</td>\n",
       "      <td>1.0</td>\n",
       "      <td>9.1</td>\n",
       "      <td>2.0</td>\n",
       "    </tr>\n",
       "  </tbody>\n",
       "</table>\n",
       "<p>1 rows × 32 columns</p>\n",
       "</div>"
      ],
      "text/plain": [
       "   Unnamed: 0                 Time    Team Opponent   GF   GA  Win  \\\n",
       "0           0  2017-08-18 20:15:00  Alaves  Leganes  0.0  1.0   -1   \n",
       "\n",
       "   Performance__SoTA  Performance__GA  Performance__Saves  ...  Passes__Thr  \\\n",
       "0                3.0              1.0                 2.0  ...          4.0   \n",
       "\n",
       "   Passes__Launch%  Passes__AvgLen  Goal Kicks__Att  Goal Kicks__Launch%  \\\n",
       "0             46.7            33.0              7.0                100.0   \n",
       "\n",
       "   Goal Kicks__AvgLen  Crosses__Opp  Crosses__Stp  Crosses__Stp%  \\\n",
       "0                57.3          11.0           1.0            9.1   \n",
       "\n",
       "   Sweeper__#OPA  \n",
       "0            2.0  \n",
       "\n",
       "[1 rows x 32 columns]"
      ]
     },
     "execution_count": 23,
     "metadata": {},
     "output_type": "execute_result"
    }
   ],
   "source": [
    "goal_keeping = goal_keeping.drop(columns='Unnamed: 0')\n",
    "GK_to_result = pd.concat([match_result, goal_keeping], axis=1)\n",
    "\n",
    "\n",
    "# Hiển thị kết quả\n",
    "GK_to_result.head(1)"
   ]
  },
  {
   "cell_type": "markdown",
   "metadata": {},
   "source": [
    "## Correlation"
   ]
  },
  {
   "cell_type": "code",
   "execution_count": 24,
   "metadata": {},
   "outputs": [],
   "source": [
    "# List of GK-related columns\n",
    "GK_columns = [\n",
    "        'Performance__SoTA', 'Performance__GA', 'Performance__Saves', \n",
    "        'Performance__Save%', 'Performance__CS', 'Performance__PSxG', \n",
    "        'Performance__PSxG+/-', 'Penalty Kicks__PKatt', 'Penalty Kicks__PKA', \n",
    "        'Penalty Kicks__PKsv', 'Penalty Kicks__PKm', 'Launched__Cmp', \n",
    "        'Launched__Att', 'Launched__Cmp%', 'Passes__Att (GK)', 'Passes__Thr', \n",
    "        'Passes__Launch%', 'Passes__AvgLen', 'Goal Kicks__Att', 'Goal Kicks__Launch%', \n",
    "        'Goal Kicks__AvgLen', 'Crosses__Opp', 'Crosses__Stp', 'Crosses__Stp%', \n",
    "        'Sweeper__#OPA'\n",
    "    ]\n",
    "\n",
    "# Select the relevant columns: GK-related columns and GA/Win columns\n",
    "temp_df = GK_to_result[GK_columns + ['GA', 'Win']]\n",
    "\n",
    "# Calculate the correlation between the selected columns and 'GA'\n",
    "correlation_GK_GA = temp_df[GK_columns + ['GA']].corr()\n",
    "\n",
    "# Calculate the correlation between the selected columns and 'Win'\n",
    "correlation_GK_Win = temp_df[GK_columns + ['Win']].corr()"
   ]
  },
  {
   "cell_type": "markdown",
   "metadata": {},
   "source": [
    "### GK to Goal against"
   ]
  },
  {
   "cell_type": "code",
   "execution_count": 25,
   "metadata": {},
   "outputs": [
    {
     "name": "stdout",
     "output_type": "stream",
     "text": [
      "Performance__SoTA       0.588443\n",
      "Performance__Saves      0.115530\n",
      "Performance__Save%     -0.614517\n",
      "Performance__CS        -0.693435\n",
      "Performance__PSxG       0.761396\n",
      "Performance__PSxG+/-   -0.567285\n",
      "Penalty Kicks__PKatt    0.245231\n",
      "Penalty Kicks__PKA      0.270930\n",
      "Penalty Kicks__PKsv     0.026985\n",
      "Penalty Kicks__PKm     -0.000562\n",
      "Launched__Cmp          -0.073298\n",
      "Launched__Att          -0.100588\n",
      "Launched__Cmp%          0.015540\n",
      "Passes__Att (GK)       -0.059663\n",
      "Passes__Thr             0.035118\n",
      "Passes__Launch%        -0.051414\n",
      "Passes__AvgLen         -0.069565\n",
      "Goal Kicks__Att        -0.088001\n",
      "Goal Kicks__Launch%    -0.072758\n",
      "Goal Kicks__AvgLen     -0.073658\n",
      "Crosses__Opp           -0.183191\n",
      "Crosses__Stp           -0.133671\n",
      "Crosses__Stp%          -0.067069\n",
      "Sweeper__#OPA           0.068576\n",
      "Name: GA, dtype: float64\n"
     ]
    }
   ],
   "source": [
    "# Drop the first and last row using slicing on the DataFrame\n",
    "correlation_GK_GA_cleaned = correlation_GK_GA[0:-1]\n",
    "correlation_GK_GA_cleaned = correlation_GK_GA_cleaned.drop(index=correlation_GK_GA_cleaned.index[1])\n",
    "\n",
    "\n",
    "print(correlation_GK_GA_cleaned['GA'])\n"
   ]
  },
  {
   "cell_type": "code",
   "execution_count": 26,
   "metadata": {},
   "outputs": [
    {
     "data": {
      "image/png": "[encoded data removed]",
      "text/plain": [
       "<Figure size 1000x600 with 1 Axes>"
      ]
     },
     "metadata": {},
     "output_type": "display_data"
    }
   ],
   "source": [
    "\n",
    "# Plot the bar chart\n",
    "plt.figure(figsize=(10, 6))\n",
    "correlation_GK_GA_cleaned['GA'].plot(kind='bar', color='skyblue', edgecolor='black')\n",
    "\n",
    "# Add labels and title\n",
    "plt.title('Correlation of GK Features with GA', fontsize=16)\n",
    "plt.xlabel('Features', fontsize=12)\n",
    "plt.ylabel('Correlation', fontsize=12)\n",
    "plt.xticks(rotation=45, ha='right', fontsize=10)\n",
    "plt.grid(axis='y', linestyle='--', alpha=0.7)\n",
    "\n",
    "# Show the chart\n",
    "plt.tight_layout()\n",
    "plt.show()\n"
   ]
  },
  {
   "cell_type": "code",
   "execution_count": 27,
   "metadata": {},
   "outputs": [
    {
     "name": "stdout",
     "output_type": "stream",
     "text": [
      "Files saved: good_GK_features.csv and potential_GK_features.csv\n"
     ]
    }
   ],
   "source": [
    "# Chọn các hàng có tương quan từ 0.4 hoặc -0.4 trở lên với 'GA'\n",
    "good_GK_features = correlation_GK_GA_cleaned[(correlation_GK_GA_cleaned['GA'] >= 0.4) | (correlation_GK_GA_cleaned['GA'] <= -0.4)]\n",
    "\n",
    "# Chọn các hàng có tương quan từ 0.2 đến 0.4 và -0.2 đến -0.4 với 'GA'\n",
    "potential_GK_features = correlation_GK_GA_cleaned[((correlation_GK_GA_cleaned['GA'] >= 0.15) & (correlation_GK_GA_cleaned['GA'] < 0.4)) | \n",
    "                                                  ((correlation_GK_GA_cleaned['GA'] <= -0.15) & (correlation_GK_GA_cleaned['GA'] > -0.4))]\n",
    "\n",
    "# Chỉ lấy cột 'GA' từ các DataFrame đã lọc\n",
    "good_GK_features = good_GK_features['GA']\n",
    "potential_GK_features = potential_GK_features['GA']\n",
    "\n",
    "# Lưu các DataFrame vào file CSV\n",
    "good_GK_features.to_csv('eda_data/selected/good_GK_features.csv', index=False)\n",
    "potential_GK_features.to_csv('eda_data/selected/potential_GK_features.csv', index=False)\n",
    "\n",
    "print(\"Files saved: good_GK_features.csv and potential_GK_features.csv\")\n"
   ]
  },
  {
   "cell_type": "code",
   "execution_count": 28,
   "metadata": {},
   "outputs": [
    {
     "data": {
      "text/plain": [
       "Performance__SoTA       0.588443\n",
       "Performance__Save%     -0.614517\n",
       "Performance__CS        -0.693435\n",
       "Performance__PSxG       0.761396\n",
       "Performance__PSxG+/-   -0.567285\n",
       "Name: GA, dtype: float64"
      ]
     },
     "execution_count": 28,
     "metadata": {},
     "output_type": "execute_result"
    }
   ],
   "source": [
    "good_GK_features"
   ]
  },
  {
   "cell_type": "code",
   "execution_count": 29,
   "metadata": {},
   "outputs": [
    {
     "data": {
      "text/plain": [
       "Penalty Kicks__PKatt    0.245231\n",
       "Penalty Kicks__PKA      0.270930\n",
       "Crosses__Opp           -0.183191\n",
       "Name: GA, dtype: float64"
      ]
     },
     "execution_count": 29,
     "metadata": {},
     "output_type": "execute_result"
    }
   ],
   "source": [
    "potential_GK_features"
   ]
  },
  {
   "cell_type": "markdown",
   "metadata": {},
   "source": [
    "### GK to Win"
   ]
  },
  {
   "cell_type": "code",
   "execution_count": 30,
   "metadata": {},
   "outputs": [
    {
     "name": "stdout",
     "output_type": "stream",
     "text": [
      "Performance__SoTA      -0.382163\n",
      "Performance__GA        -0.619845\n",
      "Performance__Saves     -0.092262\n",
      "Performance__Save%      0.423999\n",
      "Performance__CS         0.535744\n",
      "Performance__PSxG      -0.487049\n",
      "Performance__PSxG+/-    0.335008\n",
      "Penalty Kicks__PKatt   -0.152263\n",
      "Penalty Kicks__PKA     -0.168354\n",
      "Penalty Kicks__PKsv    -0.019524\n",
      "Penalty Kicks__PKm      0.002237\n",
      "Launched__Cmp           0.011935\n",
      "Launched__Att           0.048042\n",
      "Launched__Cmp%         -0.027817\n",
      "Passes__Att (GK)        0.019393\n",
      "Passes__Thr            -0.073099\n",
      "Passes__Launch%         0.023249\n",
      "Passes__AvgLen          0.048443\n",
      "Goal Kicks__Att         0.054227\n",
      "Goal Kicks__Launch%     0.066161\n",
      "Goal Kicks__AvgLen      0.060976\n",
      "Crosses__Opp            0.220508\n",
      "Crosses__Stp            0.134696\n",
      "Crosses__Stp%           0.066604\n",
      "Sweeper__#OPA          -0.123974\n",
      "Name: Win, dtype: float64\n"
     ]
    }
   ],
   "source": [
    "# Drop the first and last row using slicing on the DataFrame\n",
    "correlation_GK_Win_cleaned = correlation_GK_Win[0:-1]\n",
    "\n",
    "print(correlation_GK_Win_cleaned['Win'])\n",
    "\n",
    "\n"
   ]
  },
  {
   "cell_type": "code",
   "execution_count": 31,
   "metadata": {},
   "outputs": [
    {
     "data": {
      "image/png": "[encoded data removed]",
      "text/plain": [
       "<Figure size 1000x600 with 1 Axes>"
      ]
     },
     "metadata": {},
     "output_type": "display_data"
    }
   ],
   "source": [
    "# Plot the bar chart\n",
    "plt.figure(figsize=(10, 6))\n",
    "correlation_GK_Win_cleaned['Win'].plot(kind='bar', color='skyblue', edgecolor='black')\n",
    "\n",
    "# Add labels and title\n",
    "plt.title('Correlation of GK Features with Win', fontsize=16)\n",
    "plt.xlabel('Features', fontsize=12)\n",
    "plt.ylabel('Correlation', fontsize=12)\n",
    "plt.xticks(rotation=45, ha='right', fontsize=10)\n",
    "plt.grid(axis='y', linestyle='--', alpha=0.7)\n",
    "\n",
    "# Show the chart\n",
    "plt.tight_layout()\n",
    "plt.show()\n",
    "\n",
    "\n"
   ]
  },
  {
   "cell_type": "code",
   "execution_count": 32,
   "metadata": {},
   "outputs": [
    {
     "name": "stdout",
     "output_type": "stream",
     "text": [
      "Files saved: good_GK_features_Win.csv and potential_GK_features_Win.csv\n"
     ]
    }
   ],
   "source": [
    "# Select rows with correlation >= 0.4 or <= -0.4 with 'Win'\n",
    "good_GK_features = correlation_GK_Win_cleaned[\n",
    "    (correlation_GK_Win_cleaned['Win'] >= 0.4) | (correlation_GK_Win_cleaned['Win'] <= -0.4)\n",
    "]\n",
    "\n",
    "# Select rows with correlation between 0.2 and 0.4 or -0.2 and -0.4 with 'Win'\n",
    "potential_GK_features = correlation_GK_Win_cleaned[\n",
    "    ((correlation_GK_Win_cleaned['Win'] >= 0.15) & (correlation_GK_Win_cleaned['Win'] < 0.4)) |\n",
    "    ((correlation_GK_Win_cleaned['Win'] <= -0.15) & (correlation_GK_Win_cleaned['Win'] > -0.4))\n",
    "]\n",
    "\n",
    "# Only keep the 'Win' column from the filtered DataFrames\n",
    "good_GK_features_Win = good_GK_features['Win']\n",
    "potential_GK_features_Win = potential_GK_features['Win']\n",
    "\n",
    "# Save the DataFrames to CSV files\n",
    "good_GK_features_Win.to_csv('eda_data/selected/good_GK_features_Win.csv', index=False)\n",
    "potential_GK_features_Win.to_csv('eda_data/selected/potential_GK_features_Win.csv', index=False)\n",
    "\n",
    "print(\"Files saved: good_GK_features_Win.csv and potential_GK_features_Win.csv\")"
   ]
  },
  {
   "cell_type": "code",
   "execution_count": 33,
   "metadata": {},
   "outputs": [
    {
     "data": {
      "text/plain": [
       "Performance__GA      -0.619845\n",
       "Performance__Save%    0.423999\n",
       "Performance__CS       0.535744\n",
       "Performance__PSxG    -0.487049\n",
       "Name: Win, dtype: float64"
      ]
     },
     "execution_count": 33,
     "metadata": {},
     "output_type": "execute_result"
    }
   ],
   "source": [
    "good_GK_features_Win"
   ]
  },
  {
   "cell_type": "code",
   "execution_count": 34,
   "metadata": {},
   "outputs": [
    {
     "data": {
      "text/plain": [
       "Performance__SoTA      -0.382163\n",
       "Performance__PSxG+/-    0.335008\n",
       "Penalty Kicks__PKatt   -0.152263\n",
       "Penalty Kicks__PKA     -0.168354\n",
       "Crosses__Opp            0.220508\n",
       "Name: Win, dtype: float64"
      ]
     },
     "execution_count": 34,
     "metadata": {},
     "output_type": "execute_result"
    }
   ],
   "source": [
    "potential_GK_features_Win"
   ]
  },
  {
   "cell_type": "markdown",
   "metadata": {},
   "source": [
    "##"
   ]
  },
  {
   "cell_type": "markdown",
   "metadata": {},
   "source": [
    "# EDA 3: Goal Shot Creation"
   ]
  },
  {
   "cell_type": "code",
   "execution_count": null,
   "metadata": {},
   "outputs": [
    {
     "data": {
      "text/html": [
       "<div>\n",
       "<style scoped>\n",
       "    .dataframe tbody tr th:only-of-type {\n",
       "        vertical-align: middle;\n",
       "    }\n",
       "\n",
       "    .dataframe tbody tr th {\n",
       "        vertical-align: top;\n",
       "    }\n",
       "\n",
       "    .dataframe thead th {\n",
       "        text-align: right;\n",
       "    }\n",
       "</style>\n",
       "<table border=\"1\" class=\"dataframe\">\n",
       "  <thead>\n",
       "    <tr style=\"text-align: right;\">\n",
       "      <th></th>\n",
       "      <th>Unnamed: 0</th>\n",
       "      <th>Time</th>\n",
       "      <th>Team</th>\n",
       "      <th>Opponent</th>\n",
       "      <th>GF</th>\n",
       "      <th>GA</th>\n",
       "      <th>Win</th>\n",
       "      <th>Unnamed: 0</th>\n",
       "      <th>SCA Types__SCA</th>\n",
       "      <th>SCA Types__PassLive</th>\n",
       "      <th>...</th>\n",
       "      <th>SCA Types__Sh</th>\n",
       "      <th>SCA Types__Fld</th>\n",
       "      <th>SCA Types__Def</th>\n",
       "      <th>GCA Types__GCA</th>\n",
       "      <th>GCA Types__PassLive</th>\n",
       "      <th>GCA Types__PassDead</th>\n",
       "      <th>GCA Types__TO</th>\n",
       "      <th>GCA Types__Sh</th>\n",
       "      <th>GCA Types__Fld</th>\n",
       "      <th>GCA Types__Def</th>\n",
       "    </tr>\n",
       "  </thead>\n",
       "  <tbody>\n",
       "    <tr>\n",
       "      <th>0</th>\n",
       "      <td>0</td>\n",
       "      <td>2017-08-18 20:15:00</td>\n",
       "      <td>Alaves</td>\n",
       "      <td>Leganes</td>\n",
       "      <td>0.0</td>\n",
       "      <td>1.0</td>\n",
       "      <td>-1</td>\n",
       "      <td>0</td>\n",
       "      <td>15.0</td>\n",
       "      <td>7.0</td>\n",
       "      <td>...</td>\n",
       "      <td>0.0</td>\n",
       "      <td>4.0</td>\n",
       "      <td>0.0</td>\n",
       "      <td>0.0</td>\n",
       "      <td>0.0</td>\n",
       "      <td>0.0</td>\n",
       "      <td>0.0</td>\n",
       "      <td>0.0</td>\n",
       "      <td>0.0</td>\n",
       "      <td>0.0</td>\n",
       "    </tr>\n",
       "  </tbody>\n",
       "</table>\n",
       "<p>1 rows × 22 columns</p>\n",
       "</div>"
      ],
      "text/plain": [
       "   Unnamed: 0                 Time    Team Opponent   GF   GA  Win  \\\n",
       "0           0  2017-08-18 20:15:00  Alaves  Leganes  0.0  1.0   -1   \n",
       "\n",
       "   Unnamed: 0  SCA Types__SCA  SCA Types__PassLive  ...  SCA Types__Sh  \\\n",
       "0           0            15.0                  7.0  ...            0.0   \n",
       "\n",
       "   SCA Types__Fld  SCA Types__Def  GCA Types__GCA  GCA Types__PassLive  \\\n",
       "0             4.0             0.0             0.0                  0.0   \n",
       "\n",
       "   GCA Types__PassDead  GCA Types__TO  GCA Types__Sh  GCA Types__Fld  \\\n",
       "0                  0.0            0.0            0.0             0.0   \n",
       "\n",
       "   GCA Types__Def  \n",
       "0             0.0  \n",
       "\n",
       "[1 rows x 22 columns]"
      ]
     },
     "execution_count": 35,
     "metadata": {},
     "output_type": "execute_result"
    }
   ],
   "source": [
    "# Combine match_result with goal shot creation data\n",
    "goal_shot_creation_to_result = pd.concat([match_result, goal_shot_creation], axis=1)\n",
    "\n",
    "# Add a 'Win' column based on match outcome\n",
    "goal_shot_creation_to_result['Win'] = goal_shot_creation_to_result.apply(\n",
    "    lambda row: 1 if row['GF'] > row['GA'] else (0 if row['GF'] == row['GA'] else -1),\n",
    "    axis=1\n",
    ")\n",
    "\n",
    "# Display the first row of the combined DataFrame for verification\n",
    "goal_shot_creation_to_result.head(1)"
   ]
  },
  {
   "cell_type": "markdown",
   "metadata": {},
   "source": [
    "## Correlation"
   ]
  },
  {
   "cell_type": "code",
   "execution_count": 36,
   "metadata": {},
   "outputs": [],
   "source": [
    "# Define the list of goal shot creation columns\n",
    "goal_shot_creation_cols = [\n",
    "    'SCA Types__SCA', 'SCA Types__PassLive', 'SCA Types__PassDead', \n",
    "    'SCA Types__TO', 'SCA Types__Sh', 'SCA Types__Fld', 'SCA Types__Def', \n",
    "    'GCA Types__GCA', 'GCA Types__PassLive', 'GCA Types__PassDead', \n",
    "    'GCA Types__TO', 'GCA Types__Sh', 'GCA Types__Fld', 'GCA Types__Def'\n",
    "]\n",
    "\n",
    "# Select the relevant columns: goal shot creation columns and 'GF'/'Win'\n",
    "temp_df = goal_shot_creation_to_result[goal_shot_creation_cols + ['GF', 'Win']]\n",
    "\n",
    "# Calculate the correlation between the goal shot creation columns and 'GF'\n",
    "correlation_goal_shot_GF = temp_df[goal_shot_creation_cols + ['GF']].corr()\n",
    "\n",
    "# Calculate the correlation between the goal shot creation columns and 'Win'\n",
    "correlation_goal_shot_Win = temp_df[goal_shot_creation_cols + ['Win']].corr()\n",
    "\n",
    "# Optionally, save the correlation matrices to CSV files\n",
    "#correlation_goal_shot_GF.to_csv('eda_data/correlation_goal_shot_GF.csv')\n",
    "#correlation_goal_shot_Win.to_csv('eda_data/correlation_goal_shot_Win.csv')"
   ]
  },
  {
   "cell_type": "markdown",
   "metadata": {},
   "source": [
    "### Goal shot creation to GF"
   ]
  },
  {
   "cell_type": "code",
   "execution_count": 37,
   "metadata": {},
   "outputs": [
    {
     "name": "stdout",
     "output_type": "stream",
     "text": [
      "SCA Types__SCA         0.266125\n",
      "SCA Types__PassLive    0.272506\n",
      "SCA Types__PassDead   -0.014660\n",
      "SCA Types__TO          0.180883\n",
      "SCA Types__Sh          0.098890\n",
      "SCA Types__Fld         0.036295\n",
      "SCA Types__Def         0.070592\n",
      "GCA Types__GCA         0.948961\n",
      "GCA Types__PassLive    0.836009\n",
      "GCA Types__PassDead    0.290414\n",
      "GCA Types__TO          0.376130\n",
      "GCA Types__Sh          0.341104\n",
      "GCA Types__Fld         0.306505\n",
      "GCA Types__Def         0.152110\n",
      "Name: GF, dtype: float64\n"
     ]
    }
   ],
   "source": [
    "# Drop the last row using slicing on the correlation DataFrame\n",
    "correlation_goal_shot_GF_cleaned = correlation_goal_shot_GF[0:-1]\n",
    "\n",
    "# Display the cleaned correlation with 'GF'\n",
    "print(correlation_goal_shot_GF_cleaned['GF'])"
   ]
  },
  {
   "cell_type": "code",
   "execution_count": 38,
   "metadata": {},
   "outputs": [
    {
     "data": {
      "image/png": "[encoded data removed]",
      "text/plain": [
       "<Figure size 1000x600 with 1 Axes>"
      ]
     },
     "metadata": {},
     "output_type": "display_data"
    }
   ],
   "source": [
    "import matplotlib.pyplot as plt\n",
    "\n",
    "# Extract the cleaned correlation values for 'GF'\n",
    "correlation_values = correlation_goal_shot_GF_cleaned['GF']\n",
    "\n",
    "# Plot a bar chart\n",
    "plt.figure(figsize=(10, 6))  # Set the figure size\n",
    "correlation_values.plot(kind='bar', color='skyblue', edgecolor='black')\n",
    "\n",
    "# Add chart details\n",
    "plt.title('Correlation of Goal Shot Creation Features with GF', fontsize=16)\n",
    "plt.xlabel('Goal Shot Creation Features', fontsize=12)\n",
    "plt.ylabel('Correlation with GF', fontsize=12)\n",
    "plt.xticks(rotation=45, ha='right', fontsize=10)  # Rotate feature labels for better visibility\n",
    "plt.grid(axis='y', linestyle='--', alpha=0.7)\n",
    "\n",
    "# Display the plot\n",
    "plt.tight_layout()\n",
    "plt.show()\n"
   ]
  },
  {
   "cell_type": "code",
   "execution_count": 39,
   "metadata": {},
   "outputs": [
    {
     "name": "stdout",
     "output_type": "stream",
     "text": [
      "Files saved: good_goal_shot_features.csv and potential_goal_shot_features.csv\n"
     ]
    }
   ],
   "source": [
    "\n",
    "# Select features with strong correlation (≥ 0.4 or ≤ -0.4) with 'GF'\n",
    "good_goal_shot_features = correlation_goal_shot_GF_cleaned[\n",
    "    (correlation_goal_shot_GF_cleaned['GF'] >= 0.4) | (correlation_goal_shot_GF_cleaned['GF'] <= -0.4)\n",
    "]\n",
    "\n",
    "# Select features with potential correlation (≥ 0.2 to < 0.4 or ≤ -0.2 to > -0.4) with 'GF'\n",
    "potential_goal_shot_features = correlation_goal_shot_GF_cleaned[\n",
    "    ((correlation_goal_shot_GF_cleaned['GF'] >= 0.2) & (correlation_goal_shot_GF_cleaned['GF'] < 0.4)) | \n",
    "    ((correlation_goal_shot_GF_cleaned['GF'] <= -0.2) & (correlation_goal_shot_GF_cleaned['GF'] > -0.4))\n",
    "]\n",
    "\n",
    "# Save the selected features to CSV files\n",
    "good_goal_shot_features = good_goal_shot_features['GF']\n",
    "potential_goal_shot_features = potential_goal_shot_features['GF']\n",
    "good_goal_shot_features.to_csv('eda_data/selected/good_goal_shot_features.csv', index=False)\n",
    "potential_goal_shot_features.to_csv('eda_data/selected/potential_goal_shot_features.csv', index=False)\n",
    "\n",
    "print(\"Files saved: good_goal_shot_features.csv and potential_goal_shot_features.csv\")"
   ]
  },
  {
   "cell_type": "code",
   "execution_count": 40,
   "metadata": {},
   "outputs": [
    {
     "data": {
      "text/plain": [
       "GCA Types__GCA         0.948961\n",
       "GCA Types__PassLive    0.836009\n",
       "Name: GF, dtype: float64"
      ]
     },
     "execution_count": 40,
     "metadata": {},
     "output_type": "execute_result"
    }
   ],
   "source": [
    "good_goal_shot_features"
   ]
  },
  {
   "cell_type": "code",
   "execution_count": 41,
   "metadata": {},
   "outputs": [
    {
     "data": {
      "text/plain": [
       "SCA Types__SCA         0.266125\n",
       "SCA Types__PassLive    0.272506\n",
       "GCA Types__PassDead    0.290414\n",
       "GCA Types__TO          0.376130\n",
       "GCA Types__Sh          0.341104\n",
       "GCA Types__Fld         0.306505\n",
       "Name: GF, dtype: float64"
      ]
     },
     "execution_count": 41,
     "metadata": {},
     "output_type": "execute_result"
    }
   ],
   "source": [
    "potential_goal_shot_features"
   ]
  },
  {
   "cell_type": "markdown",
   "metadata": {},
   "source": [
    "### Goal shot creation to Win"
   ]
  },
  {
   "cell_type": "code",
   "execution_count": 42,
   "metadata": {},
   "outputs": [
    {
     "name": "stdout",
     "output_type": "stream",
     "text": [
      "SCA Types__SCA         0.156181\n",
      "SCA Types__PassLive    0.167659\n",
      "SCA Types__PassDead   -0.023653\n",
      "SCA Types__TO          0.118608\n",
      "SCA Types__Sh          0.046593\n",
      "SCA Types__Fld        -0.011218\n",
      "SCA Types__Def         0.047938\n",
      "GCA Types__GCA         0.591228\n",
      "GCA Types__PassLive    0.521811\n",
      "GCA Types__PassDead    0.182005\n",
      "GCA Types__TO          0.230779\n",
      "GCA Types__Sh          0.216304\n",
      "GCA Types__Fld         0.183457\n",
      "GCA Types__Def         0.099529\n",
      "Name: Win, dtype: float64\n"
     ]
    }
   ],
   "source": [
    "# Drop the first and last row using slicing on the correlation DataFrame\n",
    "correlation_goal_shot_Win_cleaned = correlation_goal_shot_Win[0:-1]\n",
    "\n",
    "\n",
    "# Display the cleaned correlation with 'Win'\n",
    "print(correlation_goal_shot_Win_cleaned['Win'])"
   ]
  },
  {
   "cell_type": "code",
   "execution_count": 43,
   "metadata": {},
   "outputs": [
    {
     "data": {
      "image/png": "[encoded data removed]",
      "text/plain": [
       "<Figure size 1000x600 with 1 Axes>"
      ]
     },
     "metadata": {},
     "output_type": "display_data"
    }
   ],
   "source": [
    "import matplotlib.pyplot as plt\n",
    "\n",
    "# Extract the cleaned correlation values for 'Win'\n",
    "correlation_values = correlation_goal_shot_Win_cleaned['Win']\n",
    "\n",
    "# Plot a bar chart\n",
    "plt.figure(figsize=(10, 6))  # Set the figure size\n",
    "correlation_values.plot(kind='bar', color='lightcoral', edgecolor='black')\n",
    "\n",
    "# Add chart details\n",
    "plt.title('Correlation of Goal Shot Creation Features with Win', fontsize=16)\n",
    "plt.xlabel('Goal Shot Creation Features', fontsize=12)\n",
    "plt.ylabel('Correlation with Win', fontsize=12)\n",
    "plt.xticks(rotation=45, ha='right', fontsize=10)  # Rotate feature labels for better visibility\n",
    "plt.grid(axis='y', linestyle='--', alpha=0.7)\n",
    "\n",
    "# Display the plot\n",
    "plt.tight_layout()\n",
    "plt.show()\n"
   ]
  },
  {
   "cell_type": "code",
   "execution_count": 44,
   "metadata": {},
   "outputs": [
    {
     "name": "stdout",
     "output_type": "stream",
     "text": [
      "Files saved: good_goal_shot_features_win.csv and potential_goal_shot_features_win.csv\n"
     ]
    }
   ],
   "source": [
    "\n",
    "\n",
    "# Select features with strong correlation (≥ 0.4 or ≤ -0.4) with 'Win'\n",
    "good_goal_shot_features_win = correlation_goal_shot_Win_cleaned[\n",
    "    (correlation_goal_shot_Win_cleaned['Win'] >= 0.2) | (correlation_goal_shot_Win_cleaned['Win'] <= -0.2)\n",
    "]\n",
    "\n",
    "# Select features with potential correlation (≥ 0.2 to < 0.4 or ≤ -0.2 to > -0.4) with 'Win'\n",
    "potential_goal_shot_features_win = correlation_goal_shot_Win_cleaned[\n",
    "    ((correlation_goal_shot_Win_cleaned['Win'] >= 0.1) & (correlation_goal_shot_Win_cleaned['Win'] < 0.2)) | \n",
    "    ((correlation_goal_shot_Win_cleaned['Win'] <= -0.1) & (correlation_goal_shot_Win_cleaned['Win'] > -0.2))\n",
    "]\n",
    "\n",
    "# Save the selected features to CSV files\n",
    "good_goal_shot_features_win = good_goal_shot_features_win['Win']\n",
    "potential_goal_shot_features_win = potential_goal_shot_features_win['Win']\n",
    "good_goal_shot_features_win.to_csv('eda_data/selected/good_goal_shot_features_win.csv', index=False)\n",
    "potential_goal_shot_features_win.to_csv('eda_data/selected/potential_goal_shot_features_win.csv', index=False)\n",
    "\n",
    "print(\"Files saved: good_goal_shot_features_win.csv and potential_goal_shot_features_win.csv\")"
   ]
  },
  {
   "cell_type": "code",
   "execution_count": 45,
   "metadata": {},
   "outputs": [
    {
     "data": {
      "text/plain": [
       "GCA Types__GCA         0.591228\n",
       "GCA Types__PassLive    0.521811\n",
       "GCA Types__TO          0.230779\n",
       "GCA Types__Sh          0.216304\n",
       "Name: Win, dtype: float64"
      ]
     },
     "execution_count": 45,
     "metadata": {},
     "output_type": "execute_result"
    }
   ],
   "source": [
    "good_goal_shot_features_win"
   ]
  },
  {
   "cell_type": "code",
   "execution_count": 46,
   "metadata": {},
   "outputs": [
    {
     "data": {
      "text/plain": [
       "SCA Types__SCA         0.156181\n",
       "SCA Types__PassLive    0.167659\n",
       "SCA Types__TO          0.118608\n",
       "GCA Types__PassDead    0.182005\n",
       "GCA Types__Fld         0.183457\n",
       "Name: Win, dtype: float64"
      ]
     },
     "execution_count": 46,
     "metadata": {},
     "output_type": "execute_result"
    }
   ],
   "source": [
    "potential_goal_shot_features_win"
   ]
  },
  {
   "cell_type": "markdown",
   "metadata": {},
   "source": [
    "# EDA 4: Defensive actions"
   ]
  },
  {
   "cell_type": "code",
   "execution_count": 47,
   "metadata": {},
   "outputs": [
    {
     "data": {
      "text/html": [
       "<div>\n",
       "<style scoped>\n",
       "    .dataframe tbody tr th:only-of-type {\n",
       "        vertical-align: middle;\n",
       "    }\n",
       "\n",
       "    .dataframe tbody tr th {\n",
       "        vertical-align: top;\n",
       "    }\n",
       "\n",
       "    .dataframe thead th {\n",
       "        text-align: right;\n",
       "    }\n",
       "</style>\n",
       "<table border=\"1\" class=\"dataframe\">\n",
       "  <thead>\n",
       "    <tr style=\"text-align: right;\">\n",
       "      <th></th>\n",
       "      <th>Unnamed: 0</th>\n",
       "      <th>Time</th>\n",
       "      <th>Team</th>\n",
       "      <th>Opponent</th>\n",
       "      <th>GF</th>\n",
       "      <th>GA</th>\n",
       "      <th>Win</th>\n",
       "      <th>Unnamed: 0</th>\n",
       "      <th>Tackles__Tkl</th>\n",
       "      <th>Tackles__TklW</th>\n",
       "      <th>...</th>\n",
       "      <th>Challenges__Att</th>\n",
       "      <th>Challenges__Tkl%</th>\n",
       "      <th>Challenges__Lost</th>\n",
       "      <th>Blocks__Blocks</th>\n",
       "      <th>Blocks__Sh</th>\n",
       "      <th>Blocks__Pass</th>\n",
       "      <th>Int</th>\n",
       "      <th>Tkl+Int</th>\n",
       "      <th>Clr</th>\n",
       "      <th>Err</th>\n",
       "    </tr>\n",
       "  </thead>\n",
       "  <tbody>\n",
       "    <tr>\n",
       "      <th>0</th>\n",
       "      <td>0</td>\n",
       "      <td>2017-08-18 20:15:00</td>\n",
       "      <td>Alaves</td>\n",
       "      <td>Leganes</td>\n",
       "      <td>0.0</td>\n",
       "      <td>1.0</td>\n",
       "      <td>-1</td>\n",
       "      <td>0</td>\n",
       "      <td>19.0</td>\n",
       "      <td>13.0</td>\n",
       "      <td>...</td>\n",
       "      <td>15.0</td>\n",
       "      <td>53.3</td>\n",
       "      <td>7.0</td>\n",
       "      <td>14.0</td>\n",
       "      <td>5.0</td>\n",
       "      <td>9.0</td>\n",
       "      <td>14.0</td>\n",
       "      <td>33</td>\n",
       "      <td>17.0</td>\n",
       "      <td>1.0</td>\n",
       "    </tr>\n",
       "  </tbody>\n",
       "</table>\n",
       "<p>1 rows × 24 columns</p>\n",
       "</div>"
      ],
      "text/plain": [
       "   Unnamed: 0                 Time    Team Opponent   GF   GA  Win  \\\n",
       "0           0  2017-08-18 20:15:00  Alaves  Leganes  0.0  1.0   -1   \n",
       "\n",
       "   Unnamed: 0  Tackles__Tkl  Tackles__TklW  ...  Challenges__Att  \\\n",
       "0           0          19.0           13.0  ...             15.0   \n",
       "\n",
       "   Challenges__Tkl%  Challenges__Lost  Blocks__Blocks  Blocks__Sh  \\\n",
       "0              53.3               7.0            14.0         5.0   \n",
       "\n",
       "   Blocks__Pass   Int  Tkl+Int   Clr  Err  \n",
       "0           9.0  14.0       33  17.0  1.0  \n",
       "\n",
       "[1 rows x 24 columns]"
      ]
     },
     "execution_count": 47,
     "metadata": {},
     "output_type": "execute_result"
    }
   ],
   "source": [
    "# List các cột liên quan đến các hành động phòng ngự\n",
    "defensive_actions_cols = [\n",
    "    'Tackles__Tkl', 'Tackles__TklW', 'Tackles__Def 3rd', 'Tackles__Mid 3rd', \n",
    "    'Tackles__Att 3rd', 'Challenges__Tkl', 'Challenges__Att', 'Challenges__Tkl%', \n",
    "    'Challenges__Lost', 'Blocks__Blocks', 'Blocks__Sh', 'Blocks__Pass', 'Int', \n",
    "    'Tkl+Int', 'Clr', 'Err'\n",
    "]\n",
    "\n",
    "# Kết hợp dữ liệu với bảng match_result\n",
    "defensive_actions_to_result = pd.concat([match_result, defensive_actions], axis=1)\n",
    "\n",
    "# Hiển thị kết quả\n",
    "defensive_actions_to_result.head(1)"
   ]
  },
  {
   "cell_type": "markdown",
   "metadata": {},
   "source": [
    "## Correlation"
   ]
  },
  {
   "cell_type": "code",
   "execution_count": 48,
   "metadata": {},
   "outputs": [],
   "source": [
    "# Chọn các cột liên quan đến hành động phòng ngự và các cột GA, Win\n",
    "temp_df_defensive = defensive_actions_to_result[defensive_actions_cols + ['GA', 'Win']]\n",
    "\n",
    "# Tính toán độ tương quan giữa các cột đã chọn và 'GA'\n",
    "correlation_defensive_GA = temp_df_defensive[defensive_actions_cols + ['GA']].corr()\n",
    "\n",
    "# Tính toán độ tương quan giữa các cột đã chọn và 'Win'\n",
    "correlation_defensive_Win = temp_df_defensive[defensive_actions_cols + ['Win']].corr()"
   ]
  },
  {
   "cell_type": "markdown",
   "metadata": {},
   "source": [
    "### Defensive actions to GA"
   ]
  },
  {
   "cell_type": "code",
   "execution_count": 49,
   "metadata": {},
   "outputs": [
    {
     "name": "stdout",
     "output_type": "stream",
     "text": [
      "Tackles__Tkl       -0.022617\n",
      "Tackles__Def 3rd    0.013250\n",
      "Tackles__Mid 3rd   -0.052565\n",
      "Tackles__Att 3rd   -0.005392\n",
      "Challenges__Tkl     0.002547\n",
      "Challenges__Att     0.087247\n",
      "Challenges__Tkl%   -0.090061\n",
      "Challenges__Lost    0.120051\n",
      "Blocks__Blocks     -0.038547\n",
      "Blocks__Sh         -0.006169\n",
      "Blocks__Pass       -0.042757\n",
      "Int                 0.009230\n",
      "Tkl+Int            -0.011000\n",
      "Clr                -0.182105\n",
      "Err                 0.201970\n",
      "Name: GA, dtype: float64\n"
     ]
    }
   ],
   "source": [
    "# Làm sạch ma trận tương quan với GA\n",
    "correlation_defensive_GA_cleaned = correlation_defensive_GA[0:-1]\n",
    "correlation_defensive_GA_cleaned = correlation_defensive_GA_cleaned.drop(index=correlation_defensive_GA_cleaned.index[1])\n",
    "\n",
    "# Hiển thị độ tương quan với GA\n",
    "print(correlation_defensive_GA_cleaned['GA'])"
   ]
  },
  {
   "cell_type": "code",
   "execution_count": 50,
   "metadata": {},
   "outputs": [
    {
     "data": {
      "image/png": "[encoded data removed]",
      "text/plain": [
       "<Figure size 1000x600 with 1 Axes>"
      ]
     },
     "metadata": {},
     "output_type": "display_data"
    }
   ],
   "source": [
    "# Vẽ biểu đồ bar cho độ tương quan của các tính năng phòng ngự với GA\n",
    "plt.figure(figsize=(10, 6))\n",
    "correlation_defensive_GA_cleaned['GA'].plot(kind='bar', color='lightgreen', edgecolor='black')\n",
    "\n",
    "# Thêm nhãn và tiêu đề\n",
    "plt.title('Correlation of Defensive Actions Features with GA', fontsize=16)\n",
    "plt.xlabel('Features', fontsize=12)\n",
    "plt.ylabel('Correlation', fontsize=12)\n",
    "plt.xticks(rotation=45, ha='right', fontsize=10)\n",
    "plt.grid(axis='y', linestyle='--', alpha=0.7)\n",
    "\n",
    "# Hiển thị biểu đồ\n",
    "plt.tight_layout()\n",
    "plt.show()"
   ]
  },
  {
   "cell_type": "code",
   "execution_count": 51,
   "metadata": {},
   "outputs": [
    {
     "name": "stdout",
     "output_type": "stream",
     "text": [
      "Files saved: good_defensive_features.csv\n"
     ]
    }
   ],
   "source": [
    "# Chọn các hàng có độ tương quan từ 0.4 hoặc -0.4 trở lên với 'GA'\n",
    "good_defensive_features = correlation_defensive_GA_cleaned[(correlation_defensive_GA_cleaned['GA'] >= 0.1) | \n",
    "                                                          (correlation_defensive_GA_cleaned['GA'] <= -0.1)]\n",
    "\n",
    "# Chỉ lấy cột 'GA' từ các DataFrame đã lọc\n",
    "good_defensive_features = good_defensive_features['GA']\n",
    "\n",
    "\n",
    "# Lưu các DataFrame vào file CSV\n",
    "good_defensive_features.to_csv('eda_data/selected/good_defensive_features.csv', index=False)\n",
    "\n",
    "\n",
    "print(\"Files saved: good_defensive_features.csv\")"
   ]
  },
  {
   "cell_type": "code",
   "execution_count": 52,
   "metadata": {},
   "outputs": [
    {
     "data": {
      "text/plain": [
       "Challenges__Lost    0.120051\n",
       "Clr                -0.182105\n",
       "Err                 0.201970\n",
       "Name: GA, dtype: float64"
      ]
     },
     "execution_count": 52,
     "metadata": {},
     "output_type": "execute_result"
    }
   ],
   "source": [
    "good_defensive_features"
   ]
  },
  {
   "cell_type": "markdown",
   "metadata": {},
   "source": [
    "### Defensive actions to Win"
   ]
  },
  {
   "cell_type": "code",
   "execution_count": 53,
   "metadata": {},
   "outputs": [
    {
     "name": "stdout",
     "output_type": "stream",
     "text": [
      "Tackles__Tkl       -0.007124\n",
      "Tackles__Def 3rd   -0.048717\n",
      "Tackles__Mid 3rd    0.036616\n",
      "Tackles__Att 3rd    0.021749\n",
      "Challenges__Tkl    -0.015423\n",
      "Challenges__Att    -0.075986\n",
      "Challenges__Tkl%    0.067796\n",
      "Challenges__Lost   -0.094438\n",
      "Blocks__Blocks      0.035755\n",
      "Blocks__Sh          0.020825\n",
      "Blocks__Pass        0.029755\n",
      "Int                -0.002883\n",
      "Tkl+Int            -0.006928\n",
      "Clr                 0.192655\n",
      "Err                -0.131652\n",
      "Name: Win, dtype: float64\n"
     ]
    }
   ],
   "source": [
    "# Tính toán độ tương quan giữa các cột đã chọn và 'Win'\n",
    "correlation_defensive_Win = temp_df_defensive[defensive_actions_cols + ['Win']].corr()\n",
    "\n",
    "# Làm sạch ma trận tương quan với 'Win'\n",
    "correlation_defensive_Win_cleaned = correlation_defensive_Win[0:-1]\n",
    "correlation_defensive_Win_cleaned = correlation_defensive_Win_cleaned.drop(index=correlation_defensive_Win_cleaned.index[1])\n",
    "\n",
    "# Hiển thị độ tương quan với Win\n",
    "print(correlation_defensive_Win_cleaned['Win'])"
   ]
  },
  {
   "cell_type": "code",
   "execution_count": 54,
   "metadata": {},
   "outputs": [
    {
     "data": {
      "image/png": "[encoded data removed]",
      "text/plain": [
       "<Figure size 1000x600 with 1 Axes>"
      ]
     },
     "metadata": {},
     "output_type": "display_data"
    }
   ],
   "source": [
    "# Vẽ biểu đồ bar cho độ tương quan của các tính năng phòng ngự với Win\n",
    "plt.figure(figsize=(10, 6))\n",
    "correlation_defensive_Win_cleaned['Win'].plot(kind='bar', color='lightcoral', edgecolor='black')\n",
    "\n",
    "# Thêm nhãn và tiêu đề\n",
    "plt.title('Correlation of Defensive Actions Features with Win', fontsize=16)\n",
    "plt.xlabel('Features', fontsize=12)\n",
    "plt.ylabel('Correlation', fontsize=12)\n",
    "plt.xticks(rotation=45, ha='right', fontsize=10)\n",
    "plt.grid(axis='y', linestyle='--', alpha=0.7)\n",
    "\n",
    "# Hiển thị biểu đồ\n",
    "plt.tight_layout()\n",
    "plt.show()\n"
   ]
  },
  {
   "cell_type": "code",
   "execution_count": 55,
   "metadata": {},
   "outputs": [
    {
     "name": "stdout",
     "output_type": "stream",
     "text": [
      "Files saved: good_defensive_features_win.csv and potential_defensive_features_win.csv\n"
     ]
    }
   ],
   "source": [
    "# Chọn các hàng có độ tương quan từ 0.4 hoặc -0.4 trở lên với 'Win'\n",
    "good_defensive_features_win = correlation_defensive_Win_cleaned[(correlation_defensive_Win_cleaned['Win'] >= 0.1) | \n",
    "                                                               (correlation_defensive_Win_cleaned['Win'] <= -0.1)]\n",
    "\n",
    "# Chọn các hàng có độ tương quan từ 0.2 đến 0.4 và -0.2 đến -0.4 với 'Win'\n",
    "potential_defensive_features_win = correlation_defensive_Win_cleaned[((correlation_defensive_Win_cleaned['Win'] >= 0.05) & \n",
    "                                                                      (correlation_defensive_Win_cleaned['Win'] < 0.1)) | \n",
    "                                                                     ((correlation_defensive_Win_cleaned['Win'] <= -0.05) & \n",
    "                                                                      (correlation_defensive_Win_cleaned['Win'] > -0.1))]\n",
    "\n",
    "# Chỉ lấy cột 'Win' từ các DataFrame đã lọc\n",
    "good_defensive_features_win = good_defensive_features_win['Win']\n",
    "potential_defensive_features_win = potential_defensive_features_win['Win']\n",
    "\n",
    "# Lưu các DataFrame vào file CSV\n",
    "good_defensive_features_win.to_csv('eda_data/selected/good_defensive_features_win.csv', index=False)\n",
    "potential_defensive_features_win.to_csv('eda_data/selected/potential_defensive_features_win.csv', index=False)\n",
    "\n",
    "print(\"Files saved: good_defensive_features_win.csv and potential_defensive_features_win.csv\")"
   ]
  },
  {
   "cell_type": "code",
   "execution_count": 56,
   "metadata": {},
   "outputs": [
    {
     "data": {
      "text/plain": [
       "Clr    0.192655\n",
       "Err   -0.131652\n",
       "Name: Win, dtype: float64"
      ]
     },
     "execution_count": 56,
     "metadata": {},
     "output_type": "execute_result"
    }
   ],
   "source": [
    "good_defensive_features_win"
   ]
  },
  {
   "cell_type": "code",
   "execution_count": 57,
   "metadata": {},
   "outputs": [
    {
     "data": {
      "text/plain": [
       "Challenges__Att    -0.075986\n",
       "Challenges__Tkl%    0.067796\n",
       "Challenges__Lost   -0.094438\n",
       "Name: Win, dtype: float64"
      ]
     },
     "execution_count": 57,
     "metadata": {},
     "output_type": "execute_result"
    }
   ],
   "source": [
    "potential_defensive_features_win"
   ]
  },
  {
   "cell_type": "markdown",
   "metadata": {},
   "source": [
    "# Conclusion"
   ]
  },
  {
   "cell_type": "code",
   "execution_count": 58,
   "metadata": {},
   "outputs": [
    {
     "name": "stdout",
     "output_type": "stream",
     "text": [
      "           Feature_Name\n",
      "0                   Clr\n",
      "1                   Err\n",
      "2      Challenges__Lost\n",
      "3                   Clr\n",
      "4                   Err\n",
      "5       Performance__GA\n",
      "6    Performance__Save%\n",
      "7       Performance__CS\n",
      "8     Performance__PSxG\n",
      "9       Performance__GA\n",
      "10   Performance__Save%\n",
      "11      Performance__CS\n",
      "12    Performance__PSxG\n",
      "13       GCA Types__GCA\n",
      "14  GCA Types__PassLive\n",
      "15        GCA Types__TO\n",
      "16        GCA Types__Sh\n",
      "17       GCA Types__GCA\n",
      "18  GCA Types__PassLive\n",
      "19        Standard__Gls\n",
      "20       Standard__G/Sh\n",
      "21      Standard__G/SoT\n",
      "22        Standard__SoT\n",
      "23       Standard__SoT%\n",
      "24       Standard__G/Sh\n",
      "25      Standard__G/SoT\n"
     ]
    }
   ],
   "source": [
    "# Tạo một DataFrame trống để lưu các tên hàng\n",
    "all_feature_names = pd.DataFrame()\n",
    "\n",
    "# Dùng pd.concat để thêm tên hàng từ từng DataFrame vào all_feature_names\n",
    "all_feature_names = pd.concat([all_feature_names, good_defensive_features_win.index.to_frame(name='Feature_Name')])\n",
    "all_feature_names = pd.concat([all_feature_names, good_defensive_features.index.to_frame(name='Feature_Name')])\n",
    "all_feature_names = pd.concat([all_feature_names, good_GK_features_Win.index.to_frame(name='Feature_Name')])\n",
    "all_feature_names = pd.concat([all_feature_names, good_GK_features.index.to_frame(name='Feature_Name')])\n",
    "all_feature_names = pd.concat([all_feature_names, good_goal_shot_features_win.index.to_frame(name='Feature_Name')])\n",
    "all_feature_names = pd.concat([all_feature_names, good_goal_shot_features.index.to_frame(name='Feature_Name')])\n",
    "all_feature_names = pd.concat([all_feature_names, good_shooting_features_win.index.to_frame(name='Feature_Name')])\n",
    "all_feature_names = pd.concat([all_feature_names, good_shooting_features.index.to_frame(name='Feature_Name')])\n",
    "\n",
    "# Đặt lại chỉ mục và loại bỏ chỉ mục cũ\n",
    "all_feature_names.reset_index(drop=True, inplace=True)\n",
    "\n",
    "# Hiển thị DataFrame kết quả\n",
    "print(all_feature_names)\n",
    "\n",
    "# Lưu DataFrame vào file CSV\n",
    "all_feature_names.to_csv('eda_data/selected/all_feature_names.csv', index=False)\n"
   ]
  },
  {
   "cell_type": "code",
   "execution_count": null,
   "metadata": {},
   "outputs": [],
   "source": []
  }
 ],
 "metadata": {
  "kernelspec": {
   "display_name": "Python (intro2dl)",
   "language": "python",
   "name": "intro2dl"
  },
  "language_info": {
   "codemirror_mode": {
    "name": "ipython",
    "version": 3
   },
   "file_extension": ".py",
   "mimetype": "text/x-python",
   "name": "python",
   "nbconvert_exporter": "python",
   "pygments_lexer": "ipython3",
   "version": "3.9.0"
  }
 },
 "nbformat": 4,
 "nbformat_minor": 2
}
