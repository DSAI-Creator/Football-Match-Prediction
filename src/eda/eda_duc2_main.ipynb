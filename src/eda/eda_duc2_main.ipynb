{
 "cells": [
  {
   "cell_type": "markdown",
   "metadata": {},
   "source": [
    "# Import libraries"
   ]
  },
  {
   "cell_type": "code",
   "execution_count": 1,
   "metadata": {},
   "source": [
    "import numpy as np \n",
    "import pandas as pd\n",
    "import matplotlib.pyplot as plt"
   ],
   "outputs": []
  },
  {
   "cell_type": "markdown",
   "metadata": {},
   "source": [
    "# Read csv"
   ]
  },
  {
   "cell_type": "markdown",
   "metadata": {},
   "source": [
    "## Match result"
   ]
  },
  {
   "cell_type": "code",
   "execution_count": 2,
   "metadata": {},
   "source": [
    "match_result = pd.read_csv('eda_data/match_result.csv')\n",
    "print(match_result.shape)\n",
    "match_result.head(1)"
   ],
   "outputs": []
  },
  {
   "cell_type": "markdown",
   "metadata": {},
   "source": [
    "## Match result statistics"
   ]
  },
  {
   "cell_type": "code",
   "execution_count": 3,
   "metadata": {},
   "source": [
    "result_stats = pd.read_csv('eda_data/result_percentage.csv')\n",
    "print(result_stats.shape)\n",
    "result_stats.head(1)"
   ],
   "outputs": []
  },
  {
   "cell_type": "markdown",
   "metadata": {},
   "source": [
    "## Shooting stats"
   ]
  },
  {
   "cell_type": "code",
   "execution_count": 4,
   "metadata": {},
   "source": [
    "shooting = pd.read_csv('eda_data/df_shooting.csv')\n",
    "print(shooting.shape)\n",
    "shooting.head(1)"
   ],
   "outputs": []
  },
  {
   "cell_type": "code",
   "execution_count": 5,
   "metadata": {},
   "source": [
    "shooting_explain = pd.read_csv('eda_data/df_shooting_explained.csv')\n",
    "print(shooting_explain.shape)\n",
    "shooting_explain"
   ],
   "outputs": []
  },
  {
   "cell_type": "markdown",
   "metadata": {},
   "source": [
    "## Defensive Actions"
   ]
  },
  {
   "cell_type": "code",
   "execution_count": 6,
   "metadata": {},
   "source": [
    "# Defensive Actions Stats\n",
    "defensive_actions = pd.read_csv('eda_data/df_defensive_actions.csv')\n",
    "print(defensive_actions.shape)\n",
    "defensive_actions.head(1)"
   ],
   "outputs": []
  },
  {
   "cell_type": "code",
   "execution_count": 7,
   "metadata": {},
   "source": [
    "defensive_actions_explain = pd.read_csv('eda_data/df_defensive_actions_explained.csv')\n",
    "print(defensive_actions_explain.shape)\n",
    "defensive_actions_explain"
   ],
   "outputs": []
  },
  {
   "cell_type": "markdown",
   "metadata": {},
   "source": [
    "## Goal Keeping Stats"
   ]
  },
  {
   "cell_type": "code",
   "execution_count": 8,
   "metadata": {},
   "source": [
    "goal_keeping = pd.read_csv('eda_data/df_goal_keeping.csv')\n",
    "print(goal_keeping.shape)\n",
    "goal_keeping.head(1)"
   ],
   "outputs": []
  },
  {
   "cell_type": "code",
   "execution_count": 9,
   "metadata": {},
   "source": [
    "goal_keeping_explain = pd.read_csv('eda_data/df_goal_keeping_explained.csv')\n",
    "print(goal_keeping_explain.shape)\n",
    "goal_keeping_explain"
   ],
   "outputs": []
  },
  {
   "cell_type": "markdown",
   "metadata": {},
   "source": [
    "## Goal Shots Creation Stats"
   ]
  },
  {
   "cell_type": "code",
   "execution_count": 10,
   "metadata": {},
   "source": [
    "goal_shot_creation = pd.read_csv('eda_data/df_goal_shot_creation.csv')\n",
    "print(goal_shot_creation.shape)\n",
    "goal_shot_creation.head(1)"
   ],
   "outputs": []
  },
  {
   "cell_type": "code",
   "execution_count": 11,
   "metadata": {},
   "source": [
    "goal_shot_creation_explain = pd.read_csv('eda_data/df_goal_shot_creation_explained.csv')\n",
    "print(goal_shot_creation_explain.shape)\n",
    "goal_shot_creation_explain"
   ],
   "outputs": []
  },
  {
   "cell_type": "markdown",
   "metadata": {},
   "source": [
    "# EDA1: Shooting"
   ]
  },
  {
   "cell_type": "markdown",
   "metadata": {},
   "source": [
    "## Create shoot_to_result dataFrame"
   ]
  },
  {
   "cell_type": "code",
   "execution_count": 12,
   "metadata": {},
   "source": [
    "#match_result = match_result.drop(columns=['Unnamed'])\n",
    "#shooting = shooting.drop(columns=['Unnamed'])\n",
    "\n",
    "shoot_to_result = pd.concat([match_result, shooting], axis=1)\n",
    "\n",
    "# Thêm cột 'Win' theo điều kiện\n",
    "shoot_to_result['Win'] = shoot_to_result.apply(\n",
    "    lambda row: 1 if row['GF'] > row['GA'] else (0 if row['GF'] == row['GA'] else -1),\n",
    "    axis=1\n",
    ")\n",
    "\n",
    "# Hiển thị kết quả\n",
    "shoot_to_result.head(1)"
   ],
   "outputs": []
  },
  {
   "cell_type": "markdown",
   "metadata": {},
   "source": [
    "## Correlation"
   ]
  },
  {
   "cell_type": "code",
   "execution_count": 13,
   "metadata": {},
   "source": [
    "# List of shooting-related columns\n",
    "shooting_columns = [\n",
    "    'Standard__Gls', 'Standard__Sh', 'Standard__SoT', 'Standard__SoT%', \n",
    "    'Standard__G/Sh', 'Standard__G/SoT', 'Standard__Dist', 'Standard__FK', \n",
    "    'Standard__PK', 'Standard__PKatt'\n",
    "]\n",
    "\n",
    "# Select the relevant columns: shooting-related columns and GF/Win columns\n",
    "temp_df = shoot_to_result[shooting_columns + ['GF', 'Win']]\n",
    "\n",
    "# Calculate the correlation between the selected columns and 'GF'\n",
    "correlation_shooting_GF = temp_df[shooting_columns + ['GF']].corr()\n",
    "\n",
    "# Calculate the correlation between the selected columns and 'Win'\n",
    "correlation_shooting_Win = temp_df[shooting_columns + ['Win']].corr()\n",
    "\n",
    "# Optionally, save the correlation matrices to CSV files\n",
    "#correlation_shooting_GF.to_csv('eda_data/correlation_shooting_GF.csv')\n",
    "#correlation_shooting_Win.to_csv('eda_data/correlation_shooting_Win.csv')\n"
   ],
   "outputs": []
  },
  {
   "cell_type": "markdown",
   "metadata": {},
   "source": [
    "### Shoot to goals"
   ]
  },
  {
   "cell_type": "code",
   "execution_count": 14,
   "metadata": {},
   "source": [
    "# Drop the first and last row using slicing on the DataFrame\n",
    "correlation_shooting_GF_cleaned = correlation_shooting_GF[1:-1]\n",
    "\n",
    "print(correlation_shooting_GF_cleaned['GF'])\n"
   ],
   "outputs": []
  },
  {
   "cell_type": "code",
   "execution_count": 15,
   "metadata": {},
   "source": [
    "# Chọn các hàng có tương quan từ 0.4 hoặc -0.4 trở lên với 'GF'\n",
    "good_shooting_features = correlation_shooting_GF_cleaned[(correlation_shooting_GF_cleaned['GF'] >= 0.4) | (correlation_shooting_GF_cleaned['GF'] <= -0.4)]\n",
    "\n",
    "# Chọn các hàng có tương quan từ 0.2 đến 0.4 và -0.2 đến -0.4 với 'GF'\n",
    "potential_shooting_features = correlation_shooting_GF_cleaned[((correlation_shooting_GF_cleaned['GF'] >= 0.2) & (correlation_shooting_GF_cleaned['GF'] < 0.4)) | \n",
    "                                                    ((correlation_shooting_GF_cleaned['GF'] <= -0.2) & (correlation_shooting_GF_cleaned['GF'] > -0.4))]\n",
    "\n",
    "# Lưu các DataFrame vào file CSV\n",
    "good_shooting_features = good_shooting_features['GF']\n",
    "potential_shooting_features = potential_shooting_features['GF']\n",
    "good_shooting_features.to_csv('eda_data/selected/good_shooting_features.csv', index=False)\n",
    "potential_shooting_features.to_csv('eda_data/selected/potential_shooting_features.csv', index=False)\n",
    "\n",
    "print(\"Files saved: good_shooting_features.csv and potential_shooting_features.csv\")"
   ],
   "outputs": []
  },
  {
   "cell_type": "code",
   "execution_count": 16,
   "metadata": {},
   "source": [
    "good_shooting_features"
   ],
   "outputs": []
  },
  {
   "cell_type": "code",
   "execution_count": 17,
   "metadata": {},
   "source": [
    "potential_shooting_features"
   ],
   "outputs": []
  },
  {
   "cell_type": "markdown",
   "metadata": {},
   "source": [
    "### Shot to win"
   ]
  },
  {
   "cell_type": "code",
   "execution_count": 18,
   "metadata": {},
   "source": [
    "# Drop the first and last row using slicing on the DataFrame\n",
    "correlation_shooting_Win_cleaned = correlation_shooting_Win[0:-1]\n",
    "\n",
    "print(correlation_shooting_Win_cleaned['Win'])"
   ],
   "outputs": []
  },
  {
   "cell_type": "code",
   "execution_count": 19,
   "metadata": {},
   "source": [
    "# Chọn các hàng có tương quan từ 0.4 hoặc -0.4 trở lên với 'Win'\n",
    "good_shooting_features_win = correlation_shooting_Win_cleaned[(correlation_shooting_Win_cleaned['Win'] >= 0.4) | (correlation_shooting_Win_cleaned['Win'] <= -0.4)]\n",
    "\n",
    "# Chọn các hàng có tương quan từ 0.2 đến 0.4 và -0.2 đến -0.4 với 'Win'\n",
    "potential_shooting_features_win = correlation_shooting_Win_cleaned[((correlation_shooting_Win_cleaned['Win'] >= 0.2) & (correlation_shooting_Win_cleaned['Win'] < 0.4)) | \n",
    "                                                    ((correlation_shooting_Win_cleaned['Win'] <= -0.2) & (correlation_shooting_Win_cleaned['Win'] > -0.4))]\n",
    "\n",
    "# Lưu các DataFrame vào file CSV\n",
    "good_shooting_features_win = good_shooting_features_win['Win']\n",
    "potential_shooting_features_win = potential_shooting_features_win['Win']\n",
    "good_shooting_features_win.to_csv('eda_data/selected/good_shooting_features_to_win.csv', index=False)\n",
    "potential_shooting_features_win.to_csv('eda_data/selected/potential_shooting_features_to_win.csv', index=False)\n",
    "\n",
    "print(\"Files saved: good_shooting_features_win.csv and potential_shooting_features_win.csv\")\n"
   ],
   "outputs": []
  },
  {
   "cell_type": "code",
   "execution_count": 20,
   "metadata": {},
   "source": [
    "good_shooting_features_win"
   ],
   "outputs": []
  },
  {
   "cell_type": "code",
   "execution_count": 21,
   "metadata": {},
   "source": [
    "potential_shooting_features_win"
   ],
   "outputs": []
  },
  {
   "cell_type": "markdown",
   "metadata": {},
   "source": [
    "# EDA 2: Goal Keeping"
   ]
  },
  {
   "cell_type": "code",
   "execution_count": 22,
   "metadata": {},
   "source": [
    "match_result['Win'] = match_result.apply(\n",
    "    lambda row: 1 if row['GF'] > row['GA'] else (0 if row['GF'] == row['GA'] else -1),\n",
    "    axis=1)"
   ],
   "outputs": []
  },
  {
   "cell_type": "code",
   "execution_count": 23,
   "metadata": {},
   "source": [
    "goal_keeping = goal_keeping.drop(columns='Unnamed: 0')\n",
    "GK_to_result = pd.concat([match_result, goal_keeping], axis=1)\n",
    "\n",
    "\n",
    "# Hiển thị kết quả\n",
    "GK_to_result.head(1)"
   ],
   "outputs": []
  },
  {
   "cell_type": "markdown",
   "metadata": {},
   "source": [
    "## Correlation"
   ]
  },
  {
   "cell_type": "code",
   "execution_count": 24,
   "metadata": {},
   "source": [
    "# List of GK-related columns\n",
    "GK_columns = [\n",
    "        'Performance__SoTA', 'Performance__GA', 'Performance__Saves', \n",
    "        'Performance__Save%', 'Performance__CS', 'Performance__PSxG', \n",
    "        'Performance__PSxG+/-', 'Penalty Kicks__PKatt', 'Penalty Kicks__PKA', \n",
    "        'Penalty Kicks__PKsv', 'Penalty Kicks__PKm', 'Launched__Cmp', \n",
    "        'Launched__Att', 'Launched__Cmp%', 'Passes__Att (GK)', 'Passes__Thr', \n",
    "        'Passes__Launch%', 'Passes__AvgLen', 'Goal Kicks__Att', 'Goal Kicks__Launch%', \n",
    "        'Goal Kicks__AvgLen', 'Crosses__Opp', 'Crosses__Stp', 'Crosses__Stp%', \n",
    "        'Sweeper__#OPA'\n",
    "    ]\n",
    "\n",
    "# Select the relevant columns: GK-related columns and GA/Win columns\n",
    "temp_df = GK_to_result[GK_columns + ['GA', 'Win']]\n",
    "\n",
    "# Calculate the correlation between the selected columns and 'GA'\n",
    "correlation_GK_GA = temp_df[GK_columns + ['GA']].corr()\n",
    "\n",
    "# Calculate the correlation between the selected columns and 'Win'\n",
    "correlation_GK_Win = temp_df[GK_columns + ['Win']].corr()"
   ],
   "outputs": []
  },
  {
   "cell_type": "markdown",
   "metadata": {},
   "source": [
    "### GK to Goal against"
   ]
  },
  {
   "cell_type": "code",
   "execution_count": 25,
   "metadata": {},
   "source": [
    "# Drop the first and last row using slicing on the DataFrame\n",
    "correlation_GK_GA_cleaned = correlation_GK_GA[0:-1]\n",
    "correlation_GK_GA_cleaned = correlation_GK_GA_cleaned.drop(index=correlation_GK_GA_cleaned.index[1])\n",
    "\n",
    "\n",
    "print(correlation_GK_GA_cleaned['GA'])\n"
   ],
   "outputs": []
  },
  {
   "cell_type": "code",
   "execution_count": 26,
   "metadata": {},
   "source": [
    "\n",
    "# Plot the bar chart\n",
    "plt.figure(figsize=(10, 6))\n",
    "correlation_GK_GA_cleaned['GA'].plot(kind='bar', color='skyblue', edgecolor='black')\n",
    "\n",
    "# Add labels and title\n",
    "plt.title('Correlation of GK Features with GA', fontsize=16)\n",
    "plt.xlabel('Features', fontsize=12)\n",
    "plt.ylabel('Correlation', fontsize=12)\n",
    "plt.xticks(rotation=45, ha='right', fontsize=10)\n",
    "plt.grid(axis='y', linestyle='--', alpha=0.7)\n",
    "\n",
    "# Show the chart\n",
    "plt.tight_layout()\n",
    "plt.show()\n"
   ],
   "outputs": []
  },
  {
   "cell_type": "code",
   "execution_count": 27,
   "metadata": {},
   "source": [
    "# Chọn các hàng có tương quan từ 0.4 hoặc -0.4 trở lên với 'GA'\n",
    "good_GK_features = correlation_GK_GA_cleaned[(correlation_GK_GA_cleaned['GA'] >= 0.4) | (correlation_GK_GA_cleaned['GA'] <= -0.4)]\n",
    "\n",
    "# Chọn các hàng có tương quan từ 0.2 đến 0.4 và -0.2 đến -0.4 với 'GA'\n",
    "potential_GK_features = correlation_GK_GA_cleaned[((correlation_GK_GA_cleaned['GA'] >= 0.15) & (correlation_GK_GA_cleaned['GA'] < 0.4)) | \n",
    "                                                  ((correlation_GK_GA_cleaned['GA'] <= -0.15) & (correlation_GK_GA_cleaned['GA'] > -0.4))]\n",
    "\n",
    "# Chỉ lấy cột 'GA' từ các DataFrame đã lọc\n",
    "good_GK_features = good_GK_features['GA']\n",
    "potential_GK_features = potential_GK_features['GA']\n",
    "\n",
    "# Lưu các DataFrame vào file CSV\n",
    "good_GK_features.to_csv('eda_data/selected/good_GK_features.csv', index=False)\n",
    "potential_GK_features.to_csv('eda_data/selected/potential_GK_features.csv', index=False)\n",
    "\n",
    "print(\"Files saved: good_GK_features.csv and potential_GK_features.csv\")\n"
   ],
   "outputs": []
  },
  {
   "cell_type": "code",
   "execution_count": 28,
   "metadata": {},
   "source": [
    "good_GK_features"
   ],
   "outputs": []
  },
  {
   "cell_type": "code",
   "execution_count": 29,
   "metadata": {},
   "source": [
    "potential_GK_features"
   ],
   "outputs": []
  },
  {
   "cell_type": "markdown",
   "metadata": {},
   "source": [
    "### GK to Win"
   ]
  },
  {
   "cell_type": "code",
   "execution_count": 30,
   "metadata": {},
   "source": [
    "# Drop the first and last row using slicing on the DataFrame\n",
    "correlation_GK_Win_cleaned = correlation_GK_Win[0:-1]\n",
    "\n",
    "print(correlation_GK_Win_cleaned['Win'])\n",
    "\n",
    "\n"
   ],
   "outputs": []
  },
  {
   "cell_type": "code",
   "execution_count": 31,
   "metadata": {},
   "source": [
    "# Plot the bar chart\n",
    "plt.figure(figsize=(10, 6))\n",
    "correlation_GK_Win_cleaned['Win'].plot(kind='bar', color='skyblue', edgecolor='black')\n",
    "\n",
    "# Add labels and title\n",
    "plt.title('Correlation of GK Features with Win', fontsize=16)\n",
    "plt.xlabel('Features', fontsize=12)\n",
    "plt.ylabel('Correlation', fontsize=12)\n",
    "plt.xticks(rotation=45, ha='right', fontsize=10)\n",
    "plt.grid(axis='y', linestyle='--', alpha=0.7)\n",
    "\n",
    "# Show the chart\n",
    "plt.tight_layout()\n",
    "plt.show()\n",
    "\n",
    "\n"
   ],
   "outputs": []
  },
  {
   "cell_type": "code",
   "execution_count": 32,
   "metadata": {},
   "source": [
    "# Select rows with correlation >= 0.4 or <= -0.4 with 'Win'\n",
    "good_GK_features = correlation_GK_Win_cleaned[\n",
    "    (correlation_GK_Win_cleaned['Win'] >= 0.4) | (correlation_GK_Win_cleaned['Win'] <= -0.4)\n",
    "]\n",
    "\n",
    "# Select rows with correlation between 0.2 and 0.4 or -0.2 and -0.4 with 'Win'\n",
    "potential_GK_features = correlation_GK_Win_cleaned[\n",
    "    ((correlation_GK_Win_cleaned['Win'] >= 0.15) & (correlation_GK_Win_cleaned['Win'] < 0.4)) |\n",
    "    ((correlation_GK_Win_cleaned['Win'] <= -0.15) & (correlation_GK_Win_cleaned['Win'] > -0.4))\n",
    "]\n",
    "\n",
    "# Only keep the 'Win' column from the filtered DataFrames\n",
    "good_GK_features_Win = good_GK_features['Win']\n",
    "potential_GK_features_Win = potential_GK_features['Win']\n",
    "\n",
    "# Save the DataFrames to CSV files\n",
    "good_GK_features_Win.to_csv('eda_data/selected/good_GK_features_Win.csv', index=False)\n",
    "potential_GK_features_Win.to_csv('eda_data/selected/potential_GK_features_Win.csv', index=False)\n",
    "\n",
    "print(\"Files saved: good_GK_features_Win.csv and potential_GK_features_Win.csv\")"
   ],
   "outputs": []
  },
  {
   "cell_type": "code",
   "execution_count": 33,
   "metadata": {},
   "source": [
    "good_GK_features_Win"
   ],
   "outputs": []
  },
  {
   "cell_type": "code",
   "execution_count": 34,
   "metadata": {},
   "source": [
    "potential_GK_features_Win"
   ],
   "outputs": []
  },
  {
   "cell_type": "markdown",
   "metadata": {},
   "source": [
    "##"
   ]
  },
  {
   "cell_type": "markdown",
   "metadata": {},
   "source": [
    "# EDA 3: Goal Shot Creation"
   ]
  },
  {
   "cell_type": "code",
   "execution_count": 35,
   "metadata": {},
   "source": [
    "# Combine match_result with goal shot creation data\n",
    "goal_shot_creation_to_result = pd.concat([match_result, goal_shot_creation], axis=1)\n",
    "\n",
    "# Add a 'Win' column based on match outcome\n",
    "goal_shot_creation_to_result['Win'] = goal_shot_creation_to_result.apply(\n",
    "    lambda row: 1 if row['GF'] > row['GA'] else (0 if row['GF'] == row['GA'] else -1),\n",
    "    axis=1\n",
    ")\n",
    "\n",
    "# Display the first row of the combined DataFrame for verification\n",
    "goal_shot_creation_to_result.head(1)\n",
    "\n",
    "\n",
    "\n",
    "\n"
   ],
   "outputs": []
  },
  {
   "cell_type": "markdown",
   "metadata": {},
   "source": [
    "## Correlation"
   ]
  },
  {
   "cell_type": "code",
   "execution_count": 36,
   "metadata": {},
   "source": [
    "# Define the list of goal shot creation columns\n",
    "goal_shot_creation_cols = [\n",
    "    'SCA Types__SCA', 'SCA Types__PassLive', 'SCA Types__PassDead', \n",
    "    'SCA Types__TO', 'SCA Types__Sh', 'SCA Types__Fld', 'SCA Types__Def', \n",
    "    'GCA Types__GCA', 'GCA Types__PassLive', 'GCA Types__PassDead', \n",
    "    'GCA Types__TO', 'GCA Types__Sh', 'GCA Types__Fld', 'GCA Types__Def'\n",
    "]\n",
    "\n",
    "# Select the relevant columns: goal shot creation columns and 'GF'/'Win'\n",
    "temp_df = goal_shot_creation_to_result[goal_shot_creation_cols + ['GF', 'Win']]\n",
    "\n",
    "# Calculate the correlation between the goal shot creation columns and 'GF'\n",
    "correlation_goal_shot_GF = temp_df[goal_shot_creation_cols + ['GF']].corr()\n",
    "\n",
    "# Calculate the correlation between the goal shot creation columns and 'Win'\n",
    "correlation_goal_shot_Win = temp_df[goal_shot_creation_cols + ['Win']].corr()\n",
    "\n",
    "# Optionally, save the correlation matrices to CSV files\n",
    "#correlation_goal_shot_GF.to_csv('eda_data/correlation_goal_shot_GF.csv')\n",
    "#correlation_goal_shot_Win.to_csv('eda_data/correlation_goal_shot_Win.csv')"
   ],
   "outputs": []
  },
  {
   "cell_type": "markdown",
   "metadata": {},
   "source": [
    "### Goal shot creation to GF"
   ]
  },
  {
   "cell_type": "code",
   "execution_count": 37,
   "metadata": {},
   "source": [
    "# Drop the last row using slicing on the correlation DataFrame\n",
    "correlation_goal_shot_GF_cleaned = correlation_goal_shot_GF[0:-1]\n",
    "\n",
    "# Display the cleaned correlation with 'GF'\n",
    "print(correlation_goal_shot_GF_cleaned['GF'])"
   ],
   "outputs": []
  },
  {
   "cell_type": "code",
   "execution_count": 38,
   "metadata": {},
   "source": [
    "import matplotlib.pyplot as plt\n",
    "\n",
    "# Extract the cleaned correlation values for 'GF'\n",
    "correlation_values = correlation_goal_shot_GF_cleaned['GF']\n",
    "\n",
    "# Plot a bar chart\n",
    "plt.figure(figsize=(10, 6))  # Set the figure size\n",
    "correlation_values.plot(kind='bar', color='skyblue', edgecolor='black')\n",
    "\n",
    "# Add chart details\n",
    "plt.title('Correlation of Goal Shot Creation Features with GF', fontsize=16)\n",
    "plt.xlabel('Goal Shot Creation Features', fontsize=12)\n",
    "plt.ylabel('Correlation with GF', fontsize=12)\n",
    "plt.xticks(rotation=45, ha='right', fontsize=10)  # Rotate feature labels for better visibility\n",
    "plt.grid(axis='y', linestyle='--', alpha=0.7)\n",
    "\n",
    "# Display the plot\n",
    "plt.tight_layout()\n",
    "plt.show()\n"
   ],
   "outputs": []
  },
  {
   "cell_type": "code",
   "execution_count": 39,
   "metadata": {},
   "source": [
    "\n",
    "# Select features with strong correlation (≥ 0.4 or ≤ -0.4) with 'GF'\n",
    "good_goal_shot_features = correlation_goal_shot_GF_cleaned[\n",
    "    (correlation_goal_shot_GF_cleaned['GF'] >= 0.4) | (correlation_goal_shot_GF_cleaned['GF'] <= -0.4)\n",
    "]\n",
    "\n",
    "# Select features with potential correlation (≥ 0.2 to < 0.4 or ≤ -0.2 to > -0.4) with 'GF'\n",
    "potential_goal_shot_features = correlation_goal_shot_GF_cleaned[\n",
    "    ((correlation_goal_shot_GF_cleaned['GF'] >= 0.2) & (correlation_goal_shot_GF_cleaned['GF'] < 0.4)) | \n",
    "    ((correlation_goal_shot_GF_cleaned['GF'] <= -0.2) & (correlation_goal_shot_GF_cleaned['GF'] > -0.4))\n",
    "]\n",
    "\n",
    "# Save the selected features to CSV files\n",
    "good_goal_shot_features = good_goal_shot_features['GF']\n",
    "potential_goal_shot_features = potential_goal_shot_features['GF']\n",
    "good_goal_shot_features.to_csv('eda_data/selected/good_goal_shot_features.csv', index=False)\n",
    "potential_goal_shot_features.to_csv('eda_data/selected/potential_goal_shot_features.csv', index=False)\n",
    "\n",
    "print(\"Files saved: good_goal_shot_features.csv and potential_goal_shot_features.csv\")"
   ],
   "outputs": []
  },
  {
   "cell_type": "code",
   "execution_count": 40,
   "metadata": {},
   "source": [
    "good_goal_shot_features"
   ],
   "outputs": []
  },
  {
   "cell_type": "code",
   "execution_count": 41,
   "metadata": {},
   "source": [
    "potential_goal_shot_features"
   ],
   "outputs": []
  },
  {
   "cell_type": "markdown",
   "metadata": {},
   "source": [
    "### Goal shot creation to Win"
   ]
  },
  {
   "cell_type": "code",
   "execution_count": 42,
   "metadata": {},
   "source": [
    "# Drop the first and last row using slicing on the correlation DataFrame\n",
    "correlation_goal_shot_Win_cleaned = correlation_goal_shot_Win[0:-1]\n",
    "\n",
    "\n",
    "# Display the cleaned correlation with 'Win'\n",
    "print(correlation_goal_shot_Win_cleaned['Win'])"
   ],
   "outputs": []
  },
  {
   "cell_type": "code",
   "execution_count": 43,
   "metadata": {},
   "source": [
    "import matplotlib.pyplot as plt\n",
    "\n",
    "# Extract the cleaned correlation values for 'Win'\n",
    "correlation_values = correlation_goal_shot_Win_cleaned['Win']\n",
    "\n",
    "# Plot a bar chart\n",
    "plt.figure(figsize=(10, 6))  # Set the figure size\n",
    "correlation_values.plot(kind='bar', color='lightcoral', edgecolor='black')\n",
    "\n",
    "# Add chart details\n",
    "plt.title('Correlation of Goal Shot Creation Features with Win', fontsize=16)\n",
    "plt.xlabel('Goal Shot Creation Features', fontsize=12)\n",
    "plt.ylabel('Correlation with Win', fontsize=12)\n",
    "plt.xticks(rotation=45, ha='right', fontsize=10)  # Rotate feature labels for better visibility\n",
    "plt.grid(axis='y', linestyle='--', alpha=0.7)\n",
    "\n",
    "# Display the plot\n",
    "plt.tight_layout()\n",
    "plt.show()\n"
   ],
   "outputs": []
  },
  {
   "cell_type": "code",
   "execution_count": 44,
   "metadata": {},
   "source": [
    "\n",
    "\n",
    "# Select features with strong correlation (≥ 0.4 or ≤ -0.4) with 'Win'\n",
    "good_goal_shot_features_win = correlation_goal_shot_Win_cleaned[\n",
    "    (correlation_goal_shot_Win_cleaned['Win'] >= 0.2) | (correlation_goal_shot_Win_cleaned['Win'] <= -0.2)\n",
    "]\n",
    "\n",
    "# Select features with potential correlation (≥ 0.2 to < 0.4 or ≤ -0.2 to > -0.4) with 'Win'\n",
    "potential_goal_shot_features_win = correlation_goal_shot_Win_cleaned[\n",
    "    ((correlation_goal_shot_Win_cleaned['Win'] >= 0.1) & (correlation_goal_shot_Win_cleaned['Win'] < 0.2)) | \n",
    "    ((correlation_goal_shot_Win_cleaned['Win'] <= -0.1) & (correlation_goal_shot_Win_cleaned['Win'] > -0.2))\n",
    "]\n",
    "\n",
    "# Save the selected features to CSV files\n",
    "good_goal_shot_features_win = good_goal_shot_features_win['Win']\n",
    "potential_goal_shot_features_win = potential_goal_shot_features_win['Win']\n",
    "good_goal_shot_features_win.to_csv('eda_data/selected/good_goal_shot_features_win.csv', index=False)\n",
    "potential_goal_shot_features_win.to_csv('eda_data/selected/potential_goal_shot_features_win.csv', index=False)\n",
    "\n",
    "print(\"Files saved: good_goal_shot_features_win.csv and potential_goal_shot_features_win.csv\")"
   ],
   "outputs": []
  },
  {
   "cell_type": "code",
   "execution_count": 45,
   "metadata": {},
   "source": [
    "good_goal_shot_features_win"
   ],
   "outputs": []
  },
  {
   "cell_type": "code",
   "execution_count": 46,
   "metadata": {},
   "source": [
    "potential_goal_shot_features_win"
   ],
   "outputs": []
  },
  {
   "cell_type": "markdown",
   "metadata": {},
   "source": [
    "# EDA 4: Defensive actions"
   ]
  },
  {
   "cell_type": "code",
   "execution_count": 47,
   "metadata": {},
   "source": [
    "# List các cột liên quan đến các hành động phòng ngự\n",
    "defensive_actions_cols = [\n",
    "    'Tackles__Tkl', 'Tackles__TklW', 'Tackles__Def 3rd', 'Tackles__Mid 3rd', \n",
    "    'Tackles__Att 3rd', 'Challenges__Tkl', 'Challenges__Att', 'Challenges__Tkl%', \n",
    "    'Challenges__Lost', 'Blocks__Blocks', 'Blocks__Sh', 'Blocks__Pass', 'Int', \n",
    "    'Tkl+Int', 'Clr', 'Err'\n",
    "]\n",
    "\n",
    "# Kết hợp dữ liệu với bảng match_result\n",
    "defensive_actions_to_result = pd.concat([match_result, defensive_actions], axis=1)\n",
    "\n",
    "# Hiển thị kết quả\n",
    "defensive_actions_to_result.head(1)"
   ],
   "outputs": []
  },
  {
   "cell_type": "markdown",
   "metadata": {},
   "source": [
    "## Correlation"
   ]
  },
  {
   "cell_type": "code",
   "execution_count": 48,
   "metadata": {},
   "source": [
    "# Chọn các cột liên quan đến hành động phòng ngự và các cột GA, Win\n",
    "temp_df_defensive = defensive_actions_to_result[defensive_actions_cols + ['GA', 'Win']]\n",
    "\n",
    "# Tính toán độ tương quan giữa các cột đã chọn và 'GA'\n",
    "correlation_defensive_GA = temp_df_defensive[defensive_actions_cols + ['GA']].corr()\n",
    "\n",
    "# Tính toán độ tương quan giữa các cột đã chọn và 'Win'\n",
    "correlation_defensive_Win = temp_df_defensive[defensive_actions_cols + ['Win']].corr()"
   ],
   "outputs": []
  },
  {
   "cell_type": "markdown",
   "metadata": {},
   "source": [
    "### Defensive actions to GA"
   ]
  },
  {
   "cell_type": "code",
   "execution_count": 49,
   "metadata": {},
   "source": [
    "# Làm sạch ma trận tương quan với GA\n",
    "correlation_defensive_GA_cleaned = correlation_defensive_GA[0:-1]\n",
    "correlation_defensive_GA_cleaned = correlation_defensive_GA_cleaned.drop(index=correlation_defensive_GA_cleaned.index[1])\n",
    "\n",
    "# Hiển thị độ tương quan với GA\n",
    "print(correlation_defensive_GA_cleaned['GA'])"
   ],
   "outputs": []
  },
  {
   "cell_type": "code",
   "execution_count": 50,
   "metadata": {},
   "source": [
    "# Vẽ biểu đồ bar cho độ tương quan của các tính năng phòng ngự với GA\n",
    "plt.figure(figsize=(10, 6))\n",
    "correlation_defensive_GA_cleaned['GA'].plot(kind='bar', color='lightgreen', edgecolor='black')\n",
    "\n",
    "# Thêm nhãn và tiêu đề\n",
    "plt.title('Correlation of Defensive Actions Features with GA', fontsize=16)\n",
    "plt.xlabel('Features', fontsize=12)\n",
    "plt.ylabel('Correlation', fontsize=12)\n",
    "plt.xticks(rotation=45, ha='right', fontsize=10)\n",
    "plt.grid(axis='y', linestyle='--', alpha=0.7)\n",
    "\n",
    "# Hiển thị biểu đồ\n",
    "plt.tight_layout()\n",
    "plt.show()"
   ],
   "outputs": []
  },
  {
   "cell_type": "code",
   "execution_count": 51,
   "metadata": {},
   "source": [
    "# Chọn các hàng có độ tương quan từ 0.4 hoặc -0.4 trở lên với 'GA'\n",
    "good_defensive_features = correlation_defensive_GA_cleaned[(correlation_defensive_GA_cleaned['GA'] >= 0.1) | \n",
    "                                                          (correlation_defensive_GA_cleaned['GA'] <= -0.1)]\n",
    "\n",
    "# Chỉ lấy cột 'GA' từ các DataFrame đã lọc\n",
    "good_defensive_features = good_defensive_features['GA']\n",
    "\n",
    "\n",
    "# Lưu các DataFrame vào file CSV\n",
    "good_defensive_features.to_csv('eda_data/selected/good_defensive_features.csv', index=False)\n",
    "\n",
    "\n",
    "print(\"Files saved: good_defensive_features.csv\")"
   ],
   "outputs": []
  },
  {
   "cell_type": "code",
   "execution_count": 52,
   "metadata": {},
   "source": [
    "good_defensive_features"
   ],
   "outputs": []
  },
  {
   "cell_type": "markdown",
   "metadata": {},
   "source": [
    "### Defensive actions to Win"
   ]
  },
  {
   "cell_type": "code",
   "execution_count": 53,
   "metadata": {},
   "source": [
    "# Tính toán độ tương quan giữa các cột đã chọn và 'Win'\n",
    "correlation_defensive_Win = temp_df_defensive[defensive_actions_cols + ['Win']].corr()\n",
    "\n",
    "# Làm sạch ma trận tương quan với 'Win'\n",
    "correlation_defensive_Win_cleaned = correlation_defensive_Win[0:-1]\n",
    "correlation_defensive_Win_cleaned = correlation_defensive_Win_cleaned.drop(index=correlation_defensive_Win_cleaned.index[1])\n",
    "\n",
    "# Hiển thị độ tương quan với Win\n",
    "print(correlation_defensive_Win_cleaned['Win'])"
   ],
   "outputs": []
  },
  {
   "cell_type": "code",
   "execution_count": 54,
   "metadata": {},
   "source": [
    "# Vẽ biểu đồ bar cho độ tương quan của các tính năng phòng ngự với Win\n",
    "plt.figure(figsize=(10, 6))\n",
    "correlation_defensive_Win_cleaned['Win'].plot(kind='bar', color='lightcoral', edgecolor='black')\n",
    "\n",
    "# Thêm nhãn và tiêu đề\n",
    "plt.title('Correlation of Defensive Actions Features with Win', fontsize=16)\n",
    "plt.xlabel('Features', fontsize=12)\n",
    "plt.ylabel('Correlation', fontsize=12)\n",
    "plt.xticks(rotation=45, ha='right', fontsize=10)\n",
    "plt.grid(axis='y', linestyle='--', alpha=0.7)\n",
    "\n",
    "# Hiển thị biểu đồ\n",
    "plt.tight_layout()\n",
    "plt.show()\n"
   ],
   "outputs": []
  },
  {
   "cell_type": "code",
   "execution_count": 55,
   "metadata": {},
   "source": [
    "# Chọn các hàng có độ tương quan từ 0.4 hoặc -0.4 trở lên với 'Win'\n",
    "good_defensive_features_win = correlation_defensive_Win_cleaned[(correlation_defensive_Win_cleaned['Win'] >= 0.1) | \n",
    "                                                               (correlation_defensive_Win_cleaned['Win'] <= -0.1)]\n",
    "\n",
    "# Chọn các hàng có độ tương quan từ 0.2 đến 0.4 và -0.2 đến -0.4 với 'Win'\n",
    "potential_defensive_features_win = correlation_defensive_Win_cleaned[((correlation_defensive_Win_cleaned['Win'] >= 0.05) & \n",
    "                                                                      (correlation_defensive_Win_cleaned['Win'] < 0.1)) | \n",
    "                                                                     ((correlation_defensive_Win_cleaned['Win'] <= -0.05) & \n",
    "                                                                      (correlation_defensive_Win_cleaned['Win'] > -0.1))]\n",
    "\n",
    "# Chỉ lấy cột 'Win' từ các DataFrame đã lọc\n",
    "good_defensive_features_win = good_defensive_features_win['Win']\n",
    "potential_defensive_features_win = potential_defensive_features_win['Win']\n",
    "\n",
    "# Lưu các DataFrame vào file CSV\n",
    "good_defensive_features_win.to_csv('eda_data/selected/good_defensive_features_win.csv', index=False)\n",
    "potential_defensive_features_win.to_csv('eda_data/selected/potential_defensive_features_win.csv', index=False)\n",
    "\n",
    "print(\"Files saved: good_defensive_features_win.csv and potential_defensive_features_win.csv\")"
   ],
   "outputs": []
  },
  {
   "cell_type": "code",
   "execution_count": 56,
   "metadata": {},
   "source": [
    "good_defensive_features_win"
   ],
   "outputs": []
  },
  {
   "cell_type": "code",
   "execution_count": 57,
   "metadata": {},
   "source": [
    "potential_defensive_features_win"
   ],
   "outputs": []
  },
  {
   "cell_type": "markdown",
   "metadata": {},
   "source": [
    "# Conclusion"
   ]
  },
  {
   "cell_type": "code",
   "execution_count": 59,
   "metadata": {},
   "source": [
    "# Tạo một DataFrame trống để lưu các tên hàng\n",
    "all_feature_names = pd.DataFrame()\n",
    "\n",
    "# Dùng pd.concat để thêm tên hàng từ từng DataFrame vào all_feature_names\n",
    "all_feature_names = pd.concat([all_feature_names, good_defensive_features_win.index.to_frame(name='Feature_Name')])\n",
    "all_feature_names = pd.concat([all_feature_names, good_defensive_features.index.to_frame(name='Feature_Name')])\n",
    "all_feature_names = pd.concat([all_feature_names, good_GK_features_Win.index.to_frame(name='Feature_Name')])\n",
    "all_feature_names = pd.concat([all_feature_names, good_GK_features.index.to_frame(name='Feature_Name')])\n",
    "all_feature_names = pd.concat([all_feature_names, good_goal_shot_features_win.index.to_frame(name='Feature_Name')])\n",
    "all_feature_names = pd.concat([all_feature_names, good_goal_shot_features.index.to_frame(name='Feature_Name')])\n",
    "all_feature_names = pd.concat([all_feature_names, good_shooting_features_win.index.to_frame(name='Feature_Name')])\n",
    "all_feature_names = pd.concat([all_feature_names, good_shooting_features.index.to_frame(name='Feature_Name')])\n",
    "\n",
    "# Đặt lại chỉ mục và loại bỏ chỉ mục cũ\n",
    "all_feature_names.reset_index(drop=True, inplace=True)\n",
    "\n",
    "# Hiển thị DataFrame kết quả\n",
    "print(all_feature_names)\n",
    "\n",
    "# Lưu DataFrame vào file CSV\n",
    "all_feature_names.to_csv('eda_data/selected/all_feature_names.csv', index=False)\n"
   ],
   "outputs": []
  },
  {
   "cell_type": "code",
   "execution_count": null,
   "metadata": {},
   "source": [],
   "outputs": []
  }
 ],
 "metadata": {
  "kernelspec": {
   "display_name": "Python (intro2dl)",
   "language": "python",
   "name": "intro2dl"
  },
  "language_info": {
   "codemirror_mode": {
    "name": "ipython",
    "version": 3
   },
   "file_extension": ".py",
   "mimetype": "text/x-python",
   "name": "python",
   "nbconvert_exporter": "python",
   "pygments_lexer": "ipython3",
   "version": "3.9.0"
  }
 },
 "nbformat": 4,
 "nbformat_minor": 2
}
